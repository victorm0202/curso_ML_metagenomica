{
  "cells": [
    {
      "cell_type": "markdown",
      "metadata": {
        "id": "view-in-github",
        "colab_type": "text"
      },
      "source": [
        "<a href=\"https://colab.research.google.com/github/victorm0202/curso_ML_metagenomica/blob/main/notebooks/nnet_otus_pytorch.ipynb\" target=\"_parent\"><img src=\"https://colab.research.google.com/assets/colab-badge.svg\" alt=\"Open In Colab\"/></a>"
      ]
    },
    {
      "cell_type": "markdown",
      "source": [
        "# Neural networks on OTUS data"
      ],
      "metadata": {
        "id": "9iczV162s2xk"
      }
    },
    {
      "cell_type": "code",
      "source": [
        "from google.colab import drive\n",
        "import os\n",
        "drive.mount('/content/drive/')"
      ],
      "metadata": {
        "colab": {
          "base_uri": "https://localhost:8080/"
        },
        "outputId": "068c9428-8357-46ab-b713-c79e34b1d6db",
        "id": "XVgsxyRemaDK"
      },
      "execution_count": 1,
      "outputs": [
        {
          "output_type": "stream",
          "name": "stdout",
          "text": [
            "Drive already mounted at /content/drive/; to attempt to forcibly remount, call drive.mount(\"/content/drive/\", force_remount=True).\n"
          ]
        }
      ]
    },
    {
      "cell_type": "code",
      "source": [
        "os.chdir('/content/drive/My Drive/Cursos/metagenomica/Notebooks/')\n",
        "!pwd"
      ],
      "metadata": {
        "colab": {
          "base_uri": "https://localhost:8080/"
        },
        "outputId": "8df12973-159a-4220-bf0e-0171ee905f9d",
        "id": "oTbqkbMtmaDU"
      },
      "execution_count": 2,
      "outputs": [
        {
          "output_type": "stream",
          "name": "stdout",
          "text": [
            "/content/drive/My Drive/Cursos/metagenomica/Notebooks\n"
          ]
        }
      ]
    },
    {
      "cell_type": "code",
      "source": [
        "from mpl_toolkits.axes_grid1 import make_axes_locatable\n",
        "import pandas as pd \n",
        "import numpy as np\n",
        "import matplotlib.pyplot as plt\n",
        "import seaborn as sns\n",
        "\n",
        "otus = pd.read_csv(\"../data/OTUS_conservados.csv\", index_col=\"X\")\n",
        "\n",
        "cont_names = list(otus.drop([\"New_Labels\",\"Latitude\", \"Longitude\"], axis=1).columns)\n",
        "y_names = [\"New_Labels\"]\n",
        "otus_df = otus[cont_names+y_names]"
      ],
      "metadata": {
        "id": "a0um-Eq9maDU"
      },
      "execution_count": 3,
      "outputs": []
    },
    {
      "cell_type": "code",
      "source": [
        "def get_reduced_data(data,y_counts,ylab='New_Labels',n_min=20):\n",
        "    y_val = y_counts[y_counts>n_min]\n",
        "    data_val_df = data.loc[data[ylab].isin(y_val.index)]\n",
        "    return data_val_df, y_val"
      ],
      "metadata": {
        "id": "TPYDsWwNmaDU"
      },
      "execution_count": 4,
      "outputs": []
    },
    {
      "cell_type": "code",
      "source": [
        "y_counts = otus_df.New_Labels.value_counts()\n",
        "y_counts"
      ],
      "metadata": {
        "colab": {
          "base_uri": "https://localhost:8080/"
        },
        "id": "2VbpKh5WmaDV",
        "outputId": "57ee480e-6ca1-4df7-b974-ce22875f5118"
      },
      "execution_count": 5,
      "outputs": [
        {
          "output_type": "execute_result",
          "data": {
            "text/plain": [
              "Snow-FullH-HotSum2        709\n",
              "Snow-FullH-CoolSum8       321\n",
              "WarmT-FullH-HotSum3       309\n",
              "WarmT-FullH-HotSum2       284\n",
              "Snow-WintDry-CoolSum7     228\n",
              "Equat-FullH5              130\n",
              "WarmT-FullH-HotSum6       126\n",
              "WarmT-SumDry-WarmSum0      71\n",
              "WarmT-FullH-WarmSum4       71\n",
              "Equat-WintDry4             69\n",
              "Snow-FullH-CoolSum3        69\n",
              "Equat-Monsoonal2           67\n",
              "WarmT-FullH-WarmSum10      67\n",
              "Equat-WintDry2             62\n",
              "Equat-FullH1               55\n",
              "Equat-Monsoonal4           43\n",
              "Polar-PolarTundra8         41\n",
              "Polar-PolarFrost9          31\n",
              "WarmT-Dessert-WarmSum4     31\n",
              "WarmT-FullH-WarmSum2       28\n",
              "Snow-FullH-WarmSum2        25\n",
              "WarmT-FullH-WarmSum6       23\n",
              "Arid-Steppe-HotArid4       23\n",
              "Polar-PolarTundra10        22\n",
              "Snow-WintDry-WarmSum3      22\n",
              "Snow-FullH-CoolSum0        21\n",
              "Snow-FullH-WarmSum0        20\n",
              "Arid-Steppe-ColdArid0      12\n",
              "Equat-FullH4               11\n",
              "Polar-PolarFrost6          11\n",
              "WarmT-SumDry-HotSum0        8\n",
              "Arid-Dessert-ColdArid0      7\n",
              "Arid-Dessert-HotArid0       5\n",
              "Equat-FullH9                4\n",
              "WarmT-FullH-HotSum0         4\n",
              "WarmT-FullH-HotSum9         4\n",
              "Polar-PolarTundra2          3\n",
              "WarmT-FullH-WarmSum0        2\n",
              "WarmT-FullH-WarmSum5        2\n",
              "Arid-Steppe-HotArid7        1\n",
              "Arid-Dessert-HotArid7       1\n",
              "Name: New_Labels, dtype: int64"
            ]
          },
          "metadata": {},
          "execution_count": 5
        }
      ]
    },
    {
      "cell_type": "code",
      "source": [
        "n_min = 25\n",
        "otus_val_df, y_val = get_reduced_data(otus_df,y_counts,'New_Labels',n_min)\n",
        "otus_val_df.shape"
      ],
      "metadata": {
        "colab": {
          "base_uri": "https://localhost:8080/"
        },
        "outputId": "8d821310-3ac4-4b86-e9c2-92751a09641f",
        "id": "aTXFDxgamaDV"
      },
      "execution_count": 6,
      "outputs": [
        {
          "output_type": "execute_result",
          "data": {
            "text/plain": [
              "(2812, 604)"
            ]
          },
          "metadata": {},
          "execution_count": 6
        }
      ]
    },
    {
      "cell_type": "markdown",
      "source": [
        "## Batch samples and data loaders"
      ],
      "metadata": {
        "id": "81td3s1C7gfH"
      }
    },
    {
      "cell_type": "code",
      "source": [
        "from sklearn.model_selection import train_test_split\n",
        "from sklearn import metrics\n",
        "from sklearn import preprocessing\n",
        "from sklearn.metrics import accuracy_score\n",
        "from sklearn.preprocessing import StandardScaler\n",
        "from torch.utils.data.dataset import random_split\n",
        "%matplotlib inline\n",
        "#plt.style.use('seaborn') \n",
        "\n",
        "yy = np.array(otus_val_df[y_names]).ravel()\n",
        "X_numpy = np.array(otus_val_df.drop(y_names,axis=1)).astype('float')\n",
        "\n",
        "le = preprocessing.LabelEncoder()\n",
        "le.fit(yy)\n",
        "#le.classes_\n",
        "y_numpy = le.transform(yy)\n",
        "#le.inverse_transform(y_cat[:5])"
      ],
      "metadata": {
        "id": "pvJO6ewHk5TC"
      },
      "execution_count": 7,
      "outputs": []
    },
    {
      "cell_type": "code",
      "source": [
        "def split_stratified_into_train_val_test(X, y, frac_train=0.6, frac_val=0.15, frac_test=0.25,\n",
        "                                         random_state=None):\n",
        "    '''\n",
        "    Splits a dataset into three subsets (train, val, and test)\n",
        "    following fractional ratios provided by the user, where each subset is\n",
        "    stratified by the values in y (that is, each subset has\n",
        "    the same relative frequency of the values in the column). It performs this\n",
        "    splitting by running train_test_split() twice.\n",
        "\n",
        "    Parameters\n",
        "    ----------\n",
        "    X : numpy dataframe of covariates\n",
        "    y : numpy array of responses\n",
        "    frac_train : float\n",
        "    frac_val   : float\n",
        "    frac_test  : float\n",
        "        The ratios with which the dataframe will be split into train, val, and\n",
        "        test data. The values should be expressed as float fractions and should\n",
        "        sum to 1.0.\n",
        "    random_state : int, None, or RandomStateInstance\n",
        "        Value to be passed to train_test_split().\n",
        "\n",
        "    Returns\n",
        "    -------\n",
        "    df_train, df_val, df_test :\n",
        "        Dataframes containing the three splits.\n",
        "    '''\n",
        "    \n",
        "    if round(frac_train + frac_val + frac_test,10) != 1.0:\n",
        "        raise ValueError('fractions %f, %f, %f do not add up to 1.0' % \\\n",
        "                         (frac_train, frac_val, frac_test))\n",
        "\n",
        "    # Split original dataframe into temp and test dataframes.\n",
        "    #x_train, x_temp, y_train, y_temp = train_test_split(X, y, stratify=y, test_size=(1.0 - frac_train), random_state=random_state)\n",
        "    x_temp, x_test, y_temp, y_test = train_test_split(X, y, stratify=y, test_size=(1.0 - (frac_train+frac_val)), random_state=random_state)\n",
        "    # standardize train_val (temp) and test data\n",
        "    scaler = StandardScaler()\n",
        "    x_temp = scaler.fit_transform(x_temp)\n",
        "    x_test = scaler.transform(x_test)\n",
        "\n",
        "    # Split the temp dataframe into val and test dataframes.\n",
        "    #relative_frac_test = frac_test / (frac_val + frac_test)\n",
        "    #x_val, x_test, y_val, y_test = train_test_split(x_temp, y_temp, stratify=y_temp, test_size=relative_frac_test, random_state=random_state)\n",
        "    relative_frac_val = frac_val / (frac_train + frac_val)\n",
        "    x_train, x_val, y_train, y_val = train_test_split(x_temp, y_temp, stratify=y_temp, test_size=relative_frac_val, random_state=random_state)\n",
        "\n",
        "    #assert len(df_input) == len(df_train) + len(df_val) + len(df_test)\n",
        "    return x_train, y_train, x_val, y_val, x_test, y_test, scaler"
      ],
      "metadata": {
        "id": "jgjtIlu9BMRz"
      },
      "execution_count": 8,
      "outputs": []
    },
    {
      "cell_type": "code",
      "source": [
        "# create train (70%), validation (20%) and test (10%) datasets\n",
        "X_tr, y_tr, X_val, y_val, X_te, y_te, __ = split_stratified_into_train_val_test(X_numpy, y_numpy, .60, .20, .20)"
      ],
      "metadata": {
        "id": "XfF4sh9XCYG1"
      },
      "execution_count": 18,
      "outputs": []
    },
    {
      "cell_type": "code",
      "source": [
        "print(X_tr.shape,X_val.shape,X_te.shape)"
      ],
      "metadata": {
        "colab": {
          "base_uri": "https://localhost:8080/"
        },
        "id": "PatA1_17E8Dr",
        "outputId": "8db98870-e28c-431b-f362-97659bafc0df"
      },
      "execution_count": 19,
      "outputs": [
        {
          "output_type": "stream",
          "name": "stdout",
          "text": [
            "(1686, 603) (563, 603) (563, 603)\n"
          ]
        }
      ]
    },
    {
      "cell_type": "code",
      "source": [
        "print(y_tr.shape,y_val.shape,y_te.shape)"
      ],
      "metadata": {
        "colab": {
          "base_uri": "https://localhost:8080/"
        },
        "id": "T4h0L9i9M6VF",
        "outputId": "22dcf603-3b60-482e-ee31-9c5ed97e6463"
      },
      "execution_count": 20,
      "outputs": [
        {
          "output_type": "stream",
          "name": "stdout",
          "text": [
            "(1686,) (563,) (563,)\n"
          ]
        }
      ]
    },
    {
      "cell_type": "code",
      "source": [
        "import torch\n",
        "from torch import nn\n",
        "\n",
        "# Make device agnostic code\n",
        "device = \"cuda\" if torch.cuda.is_available() else \"cpu\"\n",
        "device"
      ],
      "metadata": {
        "colab": {
          "base_uri": "https://localhost:8080/",
          "height": 35
        },
        "outputId": "d53007d3-34b8-494d-ac2b-c33ec1ca6238",
        "id": "FRN2q-Z0k5TN"
      },
      "execution_count": 12,
      "outputs": [
        {
          "output_type": "execute_result",
          "data": {
            "text/plain": [
              "'cpu'"
            ],
            "application/vnd.google.colaboratory.intrinsic+json": {
              "type": "string"
            }
          },
          "metadata": {},
          "execution_count": 12
        }
      ]
    },
    {
      "cell_type": "code",
      "source": [
        "# Turn data into tensors\n",
        "X_train = torch.from_numpy(X_tr).type(torch.float)\n",
        "y_train = torch.from_numpy(y_tr).type(torch.LongTensor)\n",
        "X_val = torch.from_numpy(X_val).type(torch.float)\n",
        "y_val = torch.from_numpy(y_val).type(torch.LongTensor)\n",
        "X_test = torch.from_numpy(X_te).type(torch.float)\n",
        "y_test = torch.from_numpy(y_te).type(torch.LongTensor)\n",
        "\n",
        "# Put all data on target device\n",
        "X_train, y_train = X_train.to(device), y_train.to(device)\n",
        "X_val, y_val = X_val.to(device), y_val.to(device)\n",
        "X_test, y_test = X_test.to(device), y_test.to(device)"
      ],
      "metadata": {
        "id": "nNs1ukk7k5TN"
      },
      "execution_count": 21,
      "outputs": []
    },
    {
      "cell_type": "code",
      "source": [
        "class nnet_otus(nn.Module):\n",
        "    def __init__(self, input_features, output_features):\n",
        "        super(nnet_otus, self).__init__()\n",
        "        self.seq = nn.Sequential(\n",
        "            nn.Linear(in_features=input_features, out_features=520), \n",
        "            nn.ReLU(),\n",
        "            nn.Dropout(0.2),\n",
        "            nn.Linear(in_features=520, out_features=520), \n",
        "            nn.ReLU(),\n",
        "            nn.Dropout(0.2),\n",
        "            nn.Linear(in_features=520, out_features=300), \n",
        "            nn.ReLU(),\n",
        "            nn.Dropout(0.2),\n",
        "            nn.Linear(in_features=300, out_features=100), \n",
        "            nn.ReLU(),\n",
        "            nn.Linear(in_features=100, out_features=output_features), \n",
        "        )\n",
        "\n",
        "    def forward(self, x):\n",
        "        return self.seq(x)\n"
      ],
      "metadata": {
        "id": "6WKccemnsda6"
      },
      "execution_count": 22,
      "outputs": []
    },
    {
      "cell_type": "code",
      "source": [
        "from torch.utils.data import DataLoader, TensorDataset\n",
        "\n",
        "train_data = TensorDataset(X_train, y_train)\n",
        "val_data = TensorDataset(X_val, y_val)\n",
        "\n",
        "batch_size = 32\n",
        "# Builds a loader for each dataset to perform mini-batch gradient descent\n",
        "train_loader = DataLoader(dataset=train_data, batch_size=batch_size, shuffle=False)\n",
        "val_loader = DataLoader(dataset=val_data, batch_size=batch_size, shuffle=False)"
      ],
      "metadata": {
        "id": "UJ4drTqVSusd"
      },
      "execution_count": 23,
      "outputs": []
    },
    {
      "cell_type": "code",
      "source": [
        "# Set the hyperparameters for data creation\n",
        "NUM_CLASSES = len(le.classes_)\n",
        "NUM_FEATURES = X_train.shape[1]\n",
        "\n",
        "# Create an instance of the model and send it to target device\n",
        "model = nnet_otus(NUM_FEATURES, NUM_CLASSES).to(device)\n",
        "\n",
        "# Setup loss and optimizer \n",
        "loss_fn = nn.CrossEntropyLoss()\n",
        "optimizer = torch.optim.SGD(model.parameters(), lr=0.1, weight_decay=0) \n",
        "\n",
        "# Fit the model\n",
        "torch.manual_seed(42)\n",
        "epochs = 100\n",
        "\n",
        "# Build training and evaluation loop\n",
        "for epoch in range(epochs):  \n",
        "    ### Training\n",
        "    model.train()\n",
        "    for x_batch, y_batch in train_loader:\n",
        "      \n",
        "      # 1. Forward pass (model outputs raw logits)\n",
        "      y_logits = model(x_batch) # model outputs raw logits \n",
        "      y_pred = torch.softmax(y_logits, dim=1).argmax(dim=1) # go from logits -> prediction probabilities -> prediction labels\n",
        "\n",
        "      # 2. Calculate loss/accuracy\n",
        "      loss = loss_fn(y_logits, y_batch) \n",
        "      acc = accuracy_score(y_batch.detach().cpu().numpy(), y_pred.detach().cpu().numpy()) \n",
        "\n",
        "      # 3. Optimizer zero grad\n",
        "      optimizer.zero_grad()\n",
        "\n",
        "      # 4. Loss backwards\n",
        "      loss.backward()\n",
        "\n",
        "      # 5. Optimizer step\n",
        "      optimizer.step()\n",
        "\n",
        "    ### Testing\n",
        "    model.eval()\n",
        "    with torch.inference_mode():\n",
        "      # Uses loader to fetch one mini-batch for validation\n",
        "      for x_batch, y_batch in val_loader:\n",
        "          # 1. Forward pass\n",
        "          test_logits = model(x_batch)\n",
        "          test_pred = torch.softmax(test_logits, dim=1).argmax(dim=1)\n",
        "          # 2. Caculate loss/accuracy\n",
        "          test_loss = loss_fn(test_logits, y_batch)\n",
        "          test_acc = accuracy_score(y_batch.detach().cpu().numpy(), test_pred.detach().cpu().numpy())\n",
        "\n",
        "    # Print out what's happening every 10 epochs\n",
        "    if epoch % 10 == 0:\n",
        "        print(f\"Epoch: {epoch} | Loss: {loss:.5f}, Accuracy: {acc:.2f}% | Validation loss: {test_loss:.5f}, Validation acc: {test_acc:.2f}%\")\n"
      ],
      "metadata": {
        "id": "xHrd4dDcSuwC",
        "colab": {
          "base_uri": "https://localhost:8080/"
        },
        "outputId": "fe328ead-3179-4402-9bfa-9853dca3ca34"
      },
      "execution_count": 24,
      "outputs": [
        {
          "output_type": "stream",
          "name": "stdout",
          "text": [
            "Epoch: 0 | Loss: 1.98225, Accuracy: 0.45% | Validation loss: 2.19342, Validation acc: 0.47%\n",
            "Epoch: 10 | Loss: 0.01030, Accuracy: 1.00% | Validation loss: 0.21656, Validation acc: 0.89%\n",
            "Epoch: 20 | Loss: 0.00593, Accuracy: 1.00% | Validation loss: 0.25375, Validation acc: 0.89%\n",
            "Epoch: 30 | Loss: 0.00037, Accuracy: 1.00% | Validation loss: 0.52269, Validation acc: 0.89%\n",
            "Epoch: 40 | Loss: 0.00057, Accuracy: 1.00% | Validation loss: 0.36662, Validation acc: 0.89%\n",
            "Epoch: 50 | Loss: 0.00044, Accuracy: 1.00% | Validation loss: 0.52793, Validation acc: 0.89%\n",
            "Epoch: 60 | Loss: 0.00018, Accuracy: 1.00% | Validation loss: 0.42932, Validation acc: 0.95%\n",
            "Epoch: 70 | Loss: 0.00022, Accuracy: 1.00% | Validation loss: 0.45274, Validation acc: 0.95%\n",
            "Epoch: 80 | Loss: 0.00062, Accuracy: 1.00% | Validation loss: 0.46742, Validation acc: 0.95%\n",
            "Epoch: 90 | Loss: 0.00013, Accuracy: 1.00% | Validation loss: 0.44730, Validation acc: 0.95%\n"
          ]
        }
      ]
    },
    {
      "cell_type": "code",
      "source": [
        "model.eval()\n",
        "with torch.no_grad():\n",
        "  val_logits = model(X_val)\n",
        "  y_pred = torch.softmax(val_logits, dim=1).argmax(dim=1)\n",
        "\n",
        "plt.style.use('default') \n",
        "cm = metrics.confusion_matrix(y_val.detach().cpu().numpy(), y_pred.detach().cpu().numpy(), normalize=None)\n",
        "disp1 = metrics.ConfusionMatrixDisplay(cm, display_labels=np.arange(len(le.classes_)))\n",
        "fig, ax = plt.subplots(figsize=(7,7))\n",
        "ax.set_title('Matriz de confusion datos de validación',{'fontsize':10})\n",
        "\n",
        "disp1.plot(ax=ax, colorbar=False)\n",
        "# Adding custom colorbar\n",
        "cax = fig.add_axes([ax.get_position().x1+0.01,ax.get_position().y0,0.02,ax.get_position().height])\n",
        "plt.colorbar(disp1.im_,  cax=cax);"
      ],
      "metadata": {
        "colab": {
          "base_uri": "https://localhost:8080/",
          "height": 638
        },
        "id": "fNE79HlULgM4",
        "outputId": "0c69f874-d492-4e87-acf8-7ee82ee673b8"
      },
      "execution_count": 25,
      "outputs": [
        {
          "output_type": "display_data",
          "data": {
            "text/plain": [
              "<Figure size 700x700 with 2 Axes>"
            ],
            "image/png": "[encoded data removed]"
          },
          "metadata": {}
        }
      ]
    },
    {
      "cell_type": "code",
      "source": [
        "print(metrics.classification_report(y_val.detach().cpu().numpy(), y_pred.detach().cpu().numpy()))"
      ],
      "metadata": {
        "colab": {
          "base_uri": "https://localhost:8080/"
        },
        "id": "SPtagONfOtSW",
        "outputId": "f70a4c1c-b83b-4735-ca69-4371df240e13"
      },
      "execution_count": 26,
      "outputs": [
        {
          "output_type": "stream",
          "name": "stdout",
          "text": [
            "              precision    recall  f1-score   support\n",
            "\n",
            "           0       1.00      0.91      0.95        11\n",
            "           1       1.00      0.92      0.96        26\n",
            "           2       0.93      1.00      0.97        14\n",
            "           3       1.00      1.00      1.00         9\n",
            "           4       1.00      0.92      0.96        13\n",
            "           5       1.00      1.00      1.00        14\n",
            "           6       0.86      1.00      0.92         6\n",
            "           7       1.00      0.62      0.77         8\n",
            "           8       0.88      1.00      0.93        14\n",
            "           9       0.98      0.97      0.98        64\n",
            "          10       1.00      0.99      1.00       142\n",
            "          11       0.98      1.00      0.99        46\n",
            "          12       0.75      1.00      0.86         6\n",
            "          13       0.98      1.00      0.99        57\n",
            "          14       1.00      1.00      1.00        62\n",
            "          15       1.00      1.00      1.00        25\n",
            "          16       1.00      1.00      1.00        13\n",
            "          17       1.00      1.00      1.00         5\n",
            "          18       0.93      1.00      0.97        14\n",
            "          19       0.93      0.93      0.93        14\n",
            "\n",
            "    accuracy                           0.98       563\n",
            "   macro avg       0.96      0.96      0.96       563\n",
            "weighted avg       0.98      0.98      0.98       563\n",
            "\n"
          ]
        }
      ]
    },
    {
      "cell_type": "code",
      "source": [
        "model.eval()\n",
        "with torch.no_grad():\n",
        "  val_logits = model(X_test)\n",
        "  y_pred = torch.softmax(val_logits, dim=1).argmax(dim=1)\n",
        "\n",
        "plt.style.use('default') \n",
        "cm = metrics.confusion_matrix(y_test.detach().cpu().numpy(), y_pred.detach().cpu().numpy(), normalize='true')\n",
        "disp1 = metrics.ConfusionMatrixDisplay(cm, display_labels=np.arange(len(le.classes_)))\n",
        "fig, ax = plt.subplots(figsize=(7,7))\n",
        "ax.set_title('Matriz de confusion datos de test',{'fontsize':10})\n",
        "\n",
        "disp1.plot(ax=ax, colorbar=False)\n",
        "# Adding custom colorbar\n",
        "cax = fig.add_axes([ax.get_position().x1+0.01,ax.get_position().y0,0.02,ax.get_position().height])\n",
        "plt.colorbar(disp1.im_,  cax=cax);"
      ],
      "metadata": {
        "id": "jwJSd2EwSuza",
        "colab": {
          "base_uri": "https://localhost:8080/",
          "height": 638
        },
        "outputId": "85b52ced-305c-4ab7-f118-c632846a1876"
      },
      "execution_count": 27,
      "outputs": [
        {
          "output_type": "display_data",
          "data": {
            "text/plain": [
              "<Figure size 700x700 with 2 Axes>"
            ],
            "image/png": "[encoded data removed]"
          },
          "metadata": {}
        }
      ]
    },
    {
      "cell_type": "code",
      "source": [
        "print(metrics.classification_report(y_test.detach().cpu().numpy(), y_pred.detach().cpu().numpy()))"
      ],
      "metadata": {
        "colab": {
          "base_uri": "https://localhost:8080/"
        },
        "id": "zJQKpK7IjwxN",
        "outputId": "3335def5-45bb-43e2-b78e-7bbc115e57b2"
      },
      "execution_count": 28,
      "outputs": [
        {
          "output_type": "stream",
          "name": "stdout",
          "text": [
            "              precision    recall  f1-score   support\n",
            "\n",
            "           0       0.90      0.82      0.86        11\n",
            "           1       1.00      0.96      0.98        26\n",
            "           2       0.86      0.92      0.89        13\n",
            "           3       1.00      1.00      1.00         9\n",
            "           4       1.00      0.92      0.96        12\n",
            "           5       0.93      1.00      0.97        14\n",
            "           6       1.00      1.00      1.00         6\n",
            "           7       1.00      1.00      1.00         8\n",
            "           8       0.88      1.00      0.93        14\n",
            "           9       1.00      0.94      0.97        64\n",
            "          10       1.00      0.99      1.00       142\n",
            "          11       0.98      1.00      0.99        46\n",
            "          12       0.86      1.00      0.92         6\n",
            "          13       0.95      0.98      0.97        57\n",
            "          14       1.00      1.00      1.00        62\n",
            "          15       1.00      1.00      1.00        25\n",
            "          16       1.00      1.00      1.00        14\n",
            "          17       1.00      1.00      1.00         6\n",
            "          18       0.93      1.00      0.97        14\n",
            "          19       1.00      0.93      0.96        14\n",
            "\n",
            "    accuracy                           0.98       563\n",
            "   macro avg       0.96      0.97      0.97       563\n",
            "weighted avg       0.98      0.98      0.98       563\n",
            "\n"
          ]
        }
      ]
    },
    {
      "cell_type": "markdown",
      "source": [
        "## Neural networks as feature extractor"
      ],
      "metadata": {
        "id": "AfLgyrizsqhF"
      }
    },
    {
      "cell_type": "code",
      "source": [
        "global view_output\n",
        "def hook_fn(module, input, output):\n",
        "    global view_output\n",
        "    view_output = output\n",
        "net = nnet_otus(NUM_FEATURES, NUM_CLASSES).to(device)\n",
        "hook = net.seq[-2].register_forward_hook(hook_fn)\n",
        "\n",
        "with torch.no_grad():\n",
        "  val_logits = net(X_train)\n"
      ],
      "metadata": {
        "id": "TmjP5gDWmnzJ"
      },
      "execution_count": null,
      "outputs": []
    },
    {
      "cell_type": "code",
      "source": [
        "view_output.shape"
      ],
      "metadata": {
        "colab": {
          "base_uri": "https://localhost:8080/"
        },
        "id": "lfAazY8Tqa35",
        "outputId": "fa7160e9-73e5-41cd-9924-0ab3eae51b22"
      },
      "execution_count": null,
      "outputs": [
        {
          "output_type": "execute_result",
          "data": {
            "text/plain": [
              "torch.Size([1967, 100])"
            ]
          },
          "metadata": {},
          "execution_count": 50
        }
      ]
    },
    {
      "cell_type": "code",
      "source": [
        "hook.remove()"
      ],
      "metadata": {
        "id": "dqjq65qstTPO"
      },
      "execution_count": null,
      "outputs": []
    }
  ],
  "metadata": {
    "accelerator": "GPU",
    "colab": {
      "provenance": [],
      "toc_visible": true,
      "gpuType": "T4",
      "include_colab_link": true
    },
    "interpreter": {
      "hash": "3fbe1355223f7b2ffc113ba3ade6a2b520cadace5d5ec3e828c83ce02eb221bf"
    },
    "kernelspec": {
      "display_name": "Python 3 (ipykernel)",
      "language": "python",
      "name": "python3"
    },
    "language_info": {
      "codemirror_mode": {
        "name": "ipython",
        "version": 3
      },
      "file_extension": ".py",
      "mimetype": "text/x-python",
      "name": "python",
      "nbconvert_exporter": "python",
      "pygments_lexer": "ipython3",
      "version": "3.8.13"
    },
    "gpuClass": "standard"
  },
  "nbformat": 4,
  "nbformat_minor": 0
}