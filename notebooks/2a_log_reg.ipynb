{
  "cells": [
    {
      "cell_type": "markdown",
      "metadata": {
        "id": "view-in-github",
        "colab_type": "text"
      },
      "source": [
        "<a href=\"https://colab.research.google.com/github/victorm0202/curso_ML_metagenomica/blob/main/notebooks/2a_log_reg.ipynb\" target=\"_parent\"><img src=\"https://colab.research.google.com/assets/colab-badge.svg\" alt=\"Open In Colab\"/></a>"
      ]
    },
    {
      "cell_type": "markdown",
      "metadata": {
        "id": "rFpN4QmMmpqU"
      },
      "source": [
        "![figure](https://drive.google.com/uc?export=view&id=1aBthHd8htwQd89eWTOSDaDClpisx5FsA)\n",
        "\n",
        "<center> Estadística y computación para metagenómica<center>\n",
        "\n",
        "<center> Víctor Muñiz Sánchez <center>\n",
        "<center> Junio 2023 <center>"
      ]
    },
    {
      "cell_type": "markdown",
      "metadata": {
        "id": "NvxWjR5NmpqW"
      },
      "source": [
        "# Logistic Regression "
      ]
    },
    {
      "cell_type": "markdown",
      "metadata": {
        "id": "pfO3a228mpqW"
      },
      "source": [
        "## Ejemplo: Extramarital Affairs dataset"
      ]
    },
    {
      "cell_type": "code",
      "execution_count": 1,
      "metadata": {
        "colab": {
          "base_uri": "https://localhost:8080/"
        },
        "id": "cRtJNF02mpqX",
        "outputId": "ef9881ce-9236-4ad2-a9ce-4f6b2e792d90"
      },
      "outputs": [
        {
          "output_type": "execute_result",
          "data": {
            "text/plain": [
              "<contextlib.ExitStack at 0x7fb0ed11b040>"
            ]
          },
          "metadata": {},
          "execution_count": 1
        }
      ],
      "source": [
        "import numpy as np\n",
        "import pandas as pd\n",
        "from scipy import stats\n",
        "import matplotlib.pyplot as plt\n",
        "import seaborn as sns\n",
        "import statsmodels.api as sm\n",
        "from statsmodels.formula.api import logit\n",
        "from sklearn.linear_model import LogisticRegression\n",
        "from sklearn.model_selection import train_test_split\n",
        "from sklearn import metrics\n",
        "# por esta ocasion, no pongo las graficas inline, para poder mostrarlas en un slide aparte...\n",
        "#%matplotlib inline\n",
        "plt.ioff() # pongo Interactive Mode Off\n",
        "#plt.style.use('seaborn') "
      ]
    },
    {
      "cell_type": "markdown",
      "metadata": {
        "id": "iibTK900mpqY"
      },
      "source": [
        "### Los datos"
      ]
    },
    {
      "cell_type": "code",
      "execution_count": 2,
      "metadata": {
        "colab": {
          "base_uri": "https://localhost:8080/"
        },
        "id": "kvBeiZZsmpqY",
        "outputId": "48a40e29-6019-4712-87df-e6f531d5c978"
      },
      "outputs": [
        {
          "output_type": "stream",
          "name": "stdout",
          "text": [
            "\n",
            "Fair, Ray. 1978. \"A Theory of Extramarital Affairs,\" `Journal of Political\n",
            "Economy`, February, 45-61.\n",
            "\n",
            "The data is available at http://fairmodel.econ.yale.edu/rayfair/pdf/2011b.htm\n",
            "\n"
          ]
        }
      ],
      "source": [
        "print(sm.datasets.fair.SOURCE)"
      ]
    },
    {
      "cell_type": "code",
      "execution_count": 3,
      "metadata": {
        "colab": {
          "base_uri": "https://localhost:8080/"
        },
        "id": "Y0wmt1h1mpqZ",
        "outputId": "bd237910-4a2a-4a13-b90e-2c13e801c5a1"
      },
      "outputs": [
        {
          "output_type": "stream",
          "name": "stdout",
          "text": [
            "::\n",
            "\n",
            "    Number of observations: 6366\n",
            "    Number of variables: 9\n",
            "    Variable name definitions:\n",
            "\n",
            "        rate_marriage   : How rate marriage, 1 = very poor, 2 = poor, 3 = fair,\n",
            "                        4 = good, 5 = very good\n",
            "        age             : Age\n",
            "        yrs_married     : No. years married. Interval approximations. See\n",
            "                        original paper for detailed explanation.\n",
            "        children        : No. children\n",
            "        religious       : How relgious, 1 = not, 2 = mildly, 3 = fairly,\n",
            "                        4 = strongly\n",
            "        educ            : Level of education, 9 = grade school, 12 = high\n",
            "                        school, 14 = some college, 16 = college graduate,\n",
            "                        17 = some graduate school, 20 = advanced degree\n",
            "        occupation      : 1 = student, 2 = farming, agriculture; semi-skilled,\n",
            "                        or unskilled worker; 3 = white-colloar; 4 = teacher\n",
            "                        counselor social worker, nurse; artist, writers;\n",
            "                        technician, skilled worker, 5 = managerial,\n",
            "                        administrative, business, 6 = professional with\n",
            "                        advanced degree\n",
            "        occupation_husb : Husband's occupation. Same as occupation.\n",
            "        affairs         : measure of time spent in extramarital affairs\n",
            "\n",
            "    See the original paper for more details.\n",
            "\n"
          ]
        }
      ],
      "source": [
        "print( sm.datasets.fair.NOTE)"
      ]
    },
    {
      "cell_type": "code",
      "execution_count": 4,
      "metadata": {
        "colab": {
          "base_uri": "https://localhost:8080/",
          "height": 424
        },
        "id": "uxe0hVrgmpqZ",
        "outputId": "edb48fef-1943-41b0-b922-8389bc6bf35d"
      },
      "outputs": [
        {
          "output_type": "execute_result",
          "data": {
            "text/plain": [
              "      rate_marriage   age  yrs_married  children  religious  educ  occupation  \\\n",
              "0               3.0  32.0          9.0       3.0        3.0  17.0         2.0   \n",
              "1               3.0  27.0         13.0       3.0        1.0  14.0         3.0   \n",
              "2               4.0  22.0          2.5       0.0        1.0  16.0         3.0   \n",
              "3               4.0  37.0         16.5       4.0        3.0  16.0         5.0   \n",
              "4               5.0  27.0          9.0       1.0        1.0  14.0         3.0   \n",
              "...             ...   ...          ...       ...        ...   ...         ...   \n",
              "6361            5.0  32.0         13.0       2.0        3.0  17.0         4.0   \n",
              "6362            4.0  32.0         13.0       1.0        1.0  16.0         5.0   \n",
              "6363            5.0  22.0          2.5       0.0        2.0  14.0         3.0   \n",
              "6364            5.0  32.0          6.0       1.0        3.0  14.0         3.0   \n",
              "6365            4.0  22.0          2.5       0.0        2.0  16.0         2.0   \n",
              "\n",
              "      occupation_husb   affairs  \n",
              "0                 5.0  0.111111  \n",
              "1                 4.0  3.230769  \n",
              "2                 5.0  1.400000  \n",
              "3                 5.0  0.727273  \n",
              "4                 4.0  4.666666  \n",
              "...               ...       ...  \n",
              "6361              3.0  0.000000  \n",
              "6362              5.0  0.000000  \n",
              "6363              1.0  0.000000  \n",
              "6364              4.0  0.000000  \n",
              "6365              4.0  0.000000  \n",
              "\n",
              "[6366 rows x 9 columns]"
            ],
            "text/html": [
              "\n",
              "  <div id=\"df-257f67d3-5a33-4957-b384-60503dba8198\">\n",
              "    <div class=\"colab-df-container\">\n",
              "      <div>\n",
              "<style scoped>\n",
              "    .dataframe tbody tr th:only-of-type {\n",
              "        vertical-align: middle;\n",
              "    }\n",
              "\n",
              "    .dataframe tbody tr th {\n",
              "        vertical-align: top;\n",
              "    }\n",
              "\n",
              "    .dataframe thead th {\n",
              "        text-align: right;\n",
              "    }\n",
              "</style>\n",
              "<table border=\"1\" class=\"dataframe\">\n",
              "  <thead>\n",
              "    <tr style=\"text-align: right;\">\n",
              "      <th></th>\n",
              "      <th>rate_marriage</th>\n",
              "      <th>age</th>\n",
              "      <th>yrs_married</th>\n",
              "      <th>children</th>\n",
              "      <th>religious</th>\n",
              "      <th>educ</th>\n",
              "      <th>occupation</th>\n",
              "      <th>occupation_husb</th>\n",
              "      <th>affairs</th>\n",
              "    </tr>\n",
              "  </thead>\n",
              "  <tbody>\n",
              "    <tr>\n",
              "      <th>0</th>\n",
              "      <td>3.0</td>\n",
              "      <td>32.0</td>\n",
              "      <td>9.0</td>\n",
              "      <td>3.0</td>\n",
              "      <td>3.0</td>\n",
              "      <td>17.0</td>\n",
              "      <td>2.0</td>\n",
              "      <td>5.0</td>\n",
              "      <td>0.111111</td>\n",
              "    </tr>\n",
              "    <tr>\n",
              "      <th>1</th>\n",
              "      <td>3.0</td>\n",
              "      <td>27.0</td>\n",
              "      <td>13.0</td>\n",
              "      <td>3.0</td>\n",
              "      <td>1.0</td>\n",
              "      <td>14.0</td>\n",
              "      <td>3.0</td>\n",
              "      <td>4.0</td>\n",
              "      <td>3.230769</td>\n",
              "    </tr>\n",
              "    <tr>\n",
              "      <th>2</th>\n",
              "      <td>4.0</td>\n",
              "      <td>22.0</td>\n",
              "      <td>2.5</td>\n",
              "      <td>0.0</td>\n",
              "      <td>1.0</td>\n",
              "      <td>16.0</td>\n",
              "      <td>3.0</td>\n",
              "      <td>5.0</td>\n",
              "      <td>1.400000</td>\n",
              "    </tr>\n",
              "    <tr>\n",
              "      <th>3</th>\n",
              "      <td>4.0</td>\n",
              "      <td>37.0</td>\n",
              "      <td>16.5</td>\n",
              "      <td>4.0</td>\n",
              "      <td>3.0</td>\n",
              "      <td>16.0</td>\n",
              "      <td>5.0</td>\n",
              "      <td>5.0</td>\n",
              "      <td>0.727273</td>\n",
              "    </tr>\n",
              "    <tr>\n",
              "      <th>4</th>\n",
              "      <td>5.0</td>\n",
              "      <td>27.0</td>\n",
              "      <td>9.0</td>\n",
              "      <td>1.0</td>\n",
              "      <td>1.0</td>\n",
              "      <td>14.0</td>\n",
              "      <td>3.0</td>\n",
              "      <td>4.0</td>\n",
              "      <td>4.666666</td>\n",
              "    </tr>\n",
              "    <tr>\n",
              "      <th>...</th>\n",
              "      <td>...</td>\n",
              "      <td>...</td>\n",
              "      <td>...</td>\n",
              "      <td>...</td>\n",
              "      <td>...</td>\n",
              "      <td>...</td>\n",
              "      <td>...</td>\n",
              "      <td>...</td>\n",
              "      <td>...</td>\n",
              "    </tr>\n",
              "    <tr>\n",
              "      <th>6361</th>\n",
              "      <td>5.0</td>\n",
              "      <td>32.0</td>\n",
              "      <td>13.0</td>\n",
              "      <td>2.0</td>\n",
              "      <td>3.0</td>\n",
              "      <td>17.0</td>\n",
              "      <td>4.0</td>\n",
              "      <td>3.0</td>\n",
              "      <td>0.000000</td>\n",
              "    </tr>\n",
              "    <tr>\n",
              "      <th>6362</th>\n",
              "      <td>4.0</td>\n",
              "      <td>32.0</td>\n",
              "      <td>13.0</td>\n",
              "      <td>1.0</td>\n",
              "      <td>1.0</td>\n",
              "      <td>16.0</td>\n",
              "      <td>5.0</td>\n",
              "      <td>5.0</td>\n",
              "      <td>0.000000</td>\n",
              "    </tr>\n",
              "    <tr>\n",
              "      <th>6363</th>\n",
              "      <td>5.0</td>\n",
              "      <td>22.0</td>\n",
              "      <td>2.5</td>\n",
              "      <td>0.0</td>\n",
              "      <td>2.0</td>\n",
              "      <td>14.0</td>\n",
              "      <td>3.0</td>\n",
              "      <td>1.0</td>\n",
              "      <td>0.000000</td>\n",
              "    </tr>\n",
              "    <tr>\n",
              "      <th>6364</th>\n",
              "      <td>5.0</td>\n",
              "      <td>32.0</td>\n",
              "      <td>6.0</td>\n",
              "      <td>1.0</td>\n",
              "      <td>3.0</td>\n",
              "      <td>14.0</td>\n",
              "      <td>3.0</td>\n",
              "      <td>4.0</td>\n",
              "      <td>0.000000</td>\n",
              "    </tr>\n",
              "    <tr>\n",
              "      <th>6365</th>\n",
              "      <td>4.0</td>\n",
              "      <td>22.0</td>\n",
              "      <td>2.5</td>\n",
              "      <td>0.0</td>\n",
              "      <td>2.0</td>\n",
              "      <td>16.0</td>\n",
              "      <td>2.0</td>\n",
              "      <td>4.0</td>\n",
              "      <td>0.000000</td>\n",
              "    </tr>\n",
              "  </tbody>\n",
              "</table>\n",
              "<p>6366 rows × 9 columns</p>\n",
              "</div>\n",
              "      <button class=\"colab-df-convert\" onclick=\"convertToInteractive('df-257f67d3-5a33-4957-b384-60503dba8198')\"\n",
              "              title=\"Convert this dataframe to an interactive table.\"\n",
              "              style=\"display:none;\">\n",
              "        \n",
              "  <svg xmlns=\"http://www.w3.org/2000/svg\" height=\"24px\"viewBox=\"0 0 24 24\"\n",
              "       width=\"24px\">\n",
              "    <path d=\"M0 0h24v24H0V0z\" fill=\"none\"/>\n",
              "    <path d=\"M18.56 5.44l.94 2.06.94-2.06 2.06-.94-2.06-.94-.94-2.06-.94 2.06-2.06.94zm-11 1L8.5 8.5l.94-2.06 2.06-.94-2.06-.94L8.5 2.5l-.94 2.06-2.06.94zm10 10l.94 2.06.94-2.06 2.06-.94-2.06-.94-.94-2.06-.94 2.06-2.06.94z\"/><path d=\"M17.41 7.96l-1.37-1.37c-.4-.4-.92-.59-1.43-.59-.52 0-1.04.2-1.43.59L10.3 9.45l-7.72 7.72c-.78.78-.78 2.05 0 2.83L4 21.41c.39.39.9.59 1.41.59.51 0 1.02-.2 1.41-.59l7.78-7.78 2.81-2.81c.8-.78.8-2.07 0-2.86zM5.41 20L4 18.59l7.72-7.72 1.47 1.35L5.41 20z\"/>\n",
              "  </svg>\n",
              "      </button>\n",
              "      \n",
              "  <style>\n",
              "    .colab-df-container {\n",
              "      display:flex;\n",
              "      flex-wrap:wrap;\n",
              "      gap: 12px;\n",
              "    }\n",
              "\n",
              "    .colab-df-convert {\n",
              "      background-color: #E8F0FE;\n",
              "      border: none;\n",
              "      border-radius: 50%;\n",
              "      cursor: pointer;\n",
              "      display: none;\n",
              "      fill: #1967D2;\n",
              "      height: 32px;\n",
              "      padding: 0 0 0 0;\n",
              "      width: 32px;\n",
              "    }\n",
              "\n",
              "    .colab-df-convert:hover {\n",
              "      background-color: #E2EBFA;\n",
              "      box-shadow: 0px 1px 2px rgba(60, 64, 67, 0.3), 0px 1px 3px 1px rgba(60, 64, 67, 0.15);\n",
              "      fill: #174EA6;\n",
              "    }\n",
              "\n",
              "    [theme=dark] .colab-df-convert {\n",
              "      background-color: #3B4455;\n",
              "      fill: #D2E3FC;\n",
              "    }\n",
              "\n",
              "    [theme=dark] .colab-df-convert:hover {\n",
              "      background-color: #434B5C;\n",
              "      box-shadow: 0px 1px 3px 1px rgba(0, 0, 0, 0.15);\n",
              "      filter: drop-shadow(0px 1px 2px rgba(0, 0, 0, 0.3));\n",
              "      fill: #FFFFFF;\n",
              "    }\n",
              "  </style>\n",
              "\n",
              "      <script>\n",
              "        const buttonEl =\n",
              "          document.querySelector('#df-257f67d3-5a33-4957-b384-60503dba8198 button.colab-df-convert');\n",
              "        buttonEl.style.display =\n",
              "          google.colab.kernel.accessAllowed ? 'block' : 'none';\n",
              "\n",
              "        async function convertToInteractive(key) {\n",
              "          const element = document.querySelector('#df-257f67d3-5a33-4957-b384-60503dba8198');\n",
              "          const dataTable =\n",
              "            await google.colab.kernel.invokeFunction('convertToInteractive',\n",
              "                                                     [key], {});\n",
              "          if (!dataTable) return;\n",
              "\n",
              "          const docLinkHtml = 'Like what you see? Visit the ' +\n",
              "            '<a target=\"_blank\" href=https://colab.research.google.com/notebooks/data_table.ipynb>data table notebook</a>'\n",
              "            + ' to learn more about interactive tables.';\n",
              "          element.innerHTML = '';\n",
              "          dataTable['output_type'] = 'display_data';\n",
              "          await google.colab.output.renderOutput(dataTable, element);\n",
              "          const docLink = document.createElement('div');\n",
              "          docLink.innerHTML = docLinkHtml;\n",
              "          element.appendChild(docLink);\n",
              "        }\n",
              "      </script>\n",
              "    </div>\n",
              "  </div>\n",
              "  "
            ]
          },
          "metadata": {},
          "execution_count": 4
        }
      ],
      "source": [
        "dta = sm.datasets.fair.load_pandas().data\n",
        "dta"
      ]
    },
    {
      "cell_type": "code",
      "execution_count": 5,
      "metadata": {
        "colab": {
          "base_uri": "https://localhost:8080/"
        },
        "id": "f0JjOQD_mpqZ",
        "outputId": "dcda1e58-759c-4593-bf41-201a761c821a"
      },
      "outputs": [
        {
          "output_type": "stream",
          "name": "stdout",
          "text": [
            "       rate_marriage          age  yrs_married     children    religious  \\\n",
            "count    6366.000000  6366.000000  6366.000000  6366.000000  6366.000000   \n",
            "mean        4.109645    29.082862     9.009425     1.396874     2.426170   \n",
            "std         0.961430     6.847882     7.280120     1.433471     0.878369   \n",
            "min         1.000000    17.500000     0.500000     0.000000     1.000000   \n",
            "25%         4.000000    22.000000     2.500000     0.000000     2.000000   \n",
            "50%         4.000000    27.000000     6.000000     1.000000     2.000000   \n",
            "75%         5.000000    32.000000    16.500000     2.000000     3.000000   \n",
            "max         5.000000    42.000000    23.000000     5.500000     4.000000   \n",
            "\n",
            "              educ   occupation  occupation_husb      affairs  \n",
            "count  6366.000000  6366.000000      6366.000000  6366.000000  \n",
            "mean     14.209865     3.424128         3.850141     0.705374  \n",
            "std       2.178003     0.942399         1.346435     2.203374  \n",
            "min       9.000000     1.000000         1.000000     0.000000  \n",
            "25%      12.000000     3.000000         3.000000     0.000000  \n",
            "50%      14.000000     3.000000         4.000000     0.000000  \n",
            "75%      16.000000     4.000000         5.000000     0.484848  \n",
            "max      20.000000     6.000000         6.000000    57.599991  \n"
          ]
        }
      ],
      "source": [
        "print(dta.describe())"
      ]
    },
    {
      "cell_type": "markdown",
      "metadata": {
        "id": "tIOWFs2EmpqZ"
      },
      "source": [
        "### Construimos la variable dependiente (binaria)"
      ]
    },
    {
      "cell_type": "code",
      "execution_count": 6,
      "metadata": {
        "colab": {
          "base_uri": "https://localhost:8080/"
        },
        "id": "gXQuwH-8mpqZ",
        "outputId": "587da5a9-3dff-4864-99a5-4aa3ffccd441"
      },
      "outputs": [
        {
          "output_type": "execute_result",
          "data": {
            "text/plain": [
              "0       1\n",
              "1       1\n",
              "2       1\n",
              "3       1\n",
              "4       1\n",
              "       ..\n",
              "6361    0\n",
              "6362    0\n",
              "6363    0\n",
              "6364    0\n",
              "6365    0\n",
              "Name: affair, Length: 6366, dtype: int64"
            ]
          },
          "metadata": {},
          "execution_count": 6
        }
      ],
      "source": [
        "dta['affair'] = (dta['affairs'] > 0).astype(int)\n",
        "dta['affair']"
      ]
    },
    {
      "cell_type": "code",
      "execution_count": 7,
      "metadata": {
        "colab": {
          "base_uri": "https://localhost:8080/",
          "height": 449
        },
        "id": "Fwa48l12mpqa",
        "outputId": "49337998-72b4-488a-880f-f5f34299e7ac"
      },
      "outputs": [
        {
          "output_type": "display_data",
          "data": {
            "text/plain": [
              "<Figure size 640x480 with 1 Axes>"
            ],
            "image/png": "[encoded data removed]"
          },
          "metadata": {}
        }
      ],
      "source": [
        "sns.countplot(x='affair',data=dta, palette='hls')\n",
        "plt.show()"
      ]
    },
    {
      "cell_type": "code",
      "execution_count": 8,
      "metadata": {
        "colab": {
          "base_uri": "https://localhost:8080/",
          "height": 806
        },
        "id": "TfCqEUowmpqa",
        "outputId": "db40e519-280b-46e2-c795-c0692fe5fdbf"
      },
      "outputs": [
        {
          "output_type": "display_data",
          "data": {
            "text/plain": [
              "<Figure size 800x800 with 1 Axes>"
            ],
            "image/png": "[encoded data removed]"
          },
          "metadata": {}
        }
      ],
      "source": [
        "sns.catplot(x=\"occupation\", y=\"affair\", data=dta, kind=\"bar\", height = 8)\n",
        "plt.show()"
      ]
    },
    {
      "cell_type": "markdown",
      "metadata": {
        "id": "MewDOgmNmpqa"
      },
      "source": [
        "### El modelo de regresión logística\n",
        "\n",
        "Hacemos una decodificación (one-hot encoding) de las variables categóricas mediante variables `dummy`"
      ]
    },
    {
      "cell_type": "code",
      "execution_count": 9,
      "metadata": {
        "colab": {
          "base_uri": "https://localhost:8080/",
          "height": 424
        },
        "id": "ZJRZqSq9mpqa",
        "outputId": "aea2f597-6322-4801-de94-4a6f340c201b"
      },
      "outputs": [
        {
          "output_type": "execute_result",
          "data": {
            "text/plain": [
              "      rate_marriage_2.0  rate_marriage_3.0  rate_marriage_4.0  \\\n",
              "0                     0                  1                  0   \n",
              "1                     0                  1                  0   \n",
              "2                     0                  0                  1   \n",
              "3                     0                  0                  1   \n",
              "4                     0                  0                  0   \n",
              "...                 ...                ...                ...   \n",
              "6361                  0                  0                  0   \n",
              "6362                  0                  0                  1   \n",
              "6363                  0                  0                  0   \n",
              "6364                  0                  0                  0   \n",
              "6365                  0                  0                  1   \n",
              "\n",
              "      rate_marriage_5.0  \n",
              "0                     0  \n",
              "1                     0  \n",
              "2                     0  \n",
              "3                     0  \n",
              "4                     1  \n",
              "...                 ...  \n",
              "6361                  1  \n",
              "6362                  0  \n",
              "6363                  1  \n",
              "6364                  1  \n",
              "6365                  0  \n",
              "\n",
              "[6366 rows x 4 columns]"
            ],
            "text/html": [
              "\n",
              "  <div id=\"df-e1b95e69-4db8-46cc-ad1c-f1a832b42102\">\n",
              "    <div class=\"colab-df-container\">\n",
              "      <div>\n",
              "<style scoped>\n",
              "    .dataframe tbody tr th:only-of-type {\n",
              "        vertical-align: middle;\n",
              "    }\n",
              "\n",
              "    .dataframe tbody tr th {\n",
              "        vertical-align: top;\n",
              "    }\n",
              "\n",
              "    .dataframe thead th {\n",
              "        text-align: right;\n",
              "    }\n",
              "</style>\n",
              "<table border=\"1\" class=\"dataframe\">\n",
              "  <thead>\n",
              "    <tr style=\"text-align: right;\">\n",
              "      <th></th>\n",
              "      <th>rate_marriage_2.0</th>\n",
              "      <th>rate_marriage_3.0</th>\n",
              "      <th>rate_marriage_4.0</th>\n",
              "      <th>rate_marriage_5.0</th>\n",
              "    </tr>\n",
              "  </thead>\n",
              "  <tbody>\n",
              "    <tr>\n",
              "      <th>0</th>\n",
              "      <td>0</td>\n",
              "      <td>1</td>\n",
              "      <td>0</td>\n",
              "      <td>0</td>\n",
              "    </tr>\n",
              "    <tr>\n",
              "      <th>1</th>\n",
              "      <td>0</td>\n",
              "      <td>1</td>\n",
              "      <td>0</td>\n",
              "      <td>0</td>\n",
              "    </tr>\n",
              "    <tr>\n",
              "      <th>2</th>\n",
              "      <td>0</td>\n",
              "      <td>0</td>\n",
              "      <td>1</td>\n",
              "      <td>0</td>\n",
              "    </tr>\n",
              "    <tr>\n",
              "      <th>3</th>\n",
              "      <td>0</td>\n",
              "      <td>0</td>\n",
              "      <td>1</td>\n",
              "      <td>0</td>\n",
              "    </tr>\n",
              "    <tr>\n",
              "      <th>4</th>\n",
              "      <td>0</td>\n",
              "      <td>0</td>\n",
              "      <td>0</td>\n",
              "      <td>1</td>\n",
              "    </tr>\n",
              "    <tr>\n",
              "      <th>...</th>\n",
              "      <td>...</td>\n",
              "      <td>...</td>\n",
              "      <td>...</td>\n",
              "      <td>...</td>\n",
              "    </tr>\n",
              "    <tr>\n",
              "      <th>6361</th>\n",
              "      <td>0</td>\n",
              "      <td>0</td>\n",
              "      <td>0</td>\n",
              "      <td>1</td>\n",
              "    </tr>\n",
              "    <tr>\n",
              "      <th>6362</th>\n",
              "      <td>0</td>\n",
              "      <td>0</td>\n",
              "      <td>1</td>\n",
              "      <td>0</td>\n",
              "    </tr>\n",
              "    <tr>\n",
              "      <th>6363</th>\n",
              "      <td>0</td>\n",
              "      <td>0</td>\n",
              "      <td>0</td>\n",
              "      <td>1</td>\n",
              "    </tr>\n",
              "    <tr>\n",
              "      <th>6364</th>\n",
              "      <td>0</td>\n",
              "      <td>0</td>\n",
              "      <td>0</td>\n",
              "      <td>1</td>\n",
              "    </tr>\n",
              "    <tr>\n",
              "      <th>6365</th>\n",
              "      <td>0</td>\n",
              "      <td>0</td>\n",
              "      <td>1</td>\n",
              "      <td>0</td>\n",
              "    </tr>\n",
              "  </tbody>\n",
              "</table>\n",
              "<p>6366 rows × 4 columns</p>\n",
              "</div>\n",
              "      <button class=\"colab-df-convert\" onclick=\"convertToInteractive('df-e1b95e69-4db8-46cc-ad1c-f1a832b42102')\"\n",
              "              title=\"Convert this dataframe to an interactive table.\"\n",
              "              style=\"display:none;\">\n",
              "        \n",
              "  <svg xmlns=\"http://www.w3.org/2000/svg\" height=\"24px\"viewBox=\"0 0 24 24\"\n",
              "       width=\"24px\">\n",
              "    <path d=\"M0 0h24v24H0V0z\" fill=\"none\"/>\n",
              "    <path d=\"M18.56 5.44l.94 2.06.94-2.06 2.06-.94-2.06-.94-.94-2.06-.94 2.06-2.06.94zm-11 1L8.5 8.5l.94-2.06 2.06-.94-2.06-.94L8.5 2.5l-.94 2.06-2.06.94zm10 10l.94 2.06.94-2.06 2.06-.94-2.06-.94-.94-2.06-.94 2.06-2.06.94z\"/><path d=\"M17.41 7.96l-1.37-1.37c-.4-.4-.92-.59-1.43-.59-.52 0-1.04.2-1.43.59L10.3 9.45l-7.72 7.72c-.78.78-.78 2.05 0 2.83L4 21.41c.39.39.9.59 1.41.59.51 0 1.02-.2 1.41-.59l7.78-7.78 2.81-2.81c.8-.78.8-2.07 0-2.86zM5.41 20L4 18.59l7.72-7.72 1.47 1.35L5.41 20z\"/>\n",
              "  </svg>\n",
              "      </button>\n",
              "      \n",
              "  <style>\n",
              "    .colab-df-container {\n",
              "      display:flex;\n",
              "      flex-wrap:wrap;\n",
              "      gap: 12px;\n",
              "    }\n",
              "\n",
              "    .colab-df-convert {\n",
              "      background-color: #E8F0FE;\n",
              "      border: none;\n",
              "      border-radius: 50%;\n",
              "      cursor: pointer;\n",
              "      display: none;\n",
              "      fill: #1967D2;\n",
              "      height: 32px;\n",
              "      padding: 0 0 0 0;\n",
              "      width: 32px;\n",
              "    }\n",
              "\n",
              "    .colab-df-convert:hover {\n",
              "      background-color: #E2EBFA;\n",
              "      box-shadow: 0px 1px 2px rgba(60, 64, 67, 0.3), 0px 1px 3px 1px rgba(60, 64, 67, 0.15);\n",
              "      fill: #174EA6;\n",
              "    }\n",
              "\n",
              "    [theme=dark] .colab-df-convert {\n",
              "      background-color: #3B4455;\n",
              "      fill: #D2E3FC;\n",
              "    }\n",
              "\n",
              "    [theme=dark] .colab-df-convert:hover {\n",
              "      background-color: #434B5C;\n",
              "      box-shadow: 0px 1px 3px 1px rgba(0, 0, 0, 0.15);\n",
              "      filter: drop-shadow(0px 1px 2px rgba(0, 0, 0, 0.3));\n",
              "      fill: #FFFFFF;\n",
              "    }\n",
              "  </style>\n",
              "\n",
              "      <script>\n",
              "        const buttonEl =\n",
              "          document.querySelector('#df-e1b95e69-4db8-46cc-ad1c-f1a832b42102 button.colab-df-convert');\n",
              "        buttonEl.style.display =\n",
              "          google.colab.kernel.accessAllowed ? 'block' : 'none';\n",
              "\n",
              "        async function convertToInteractive(key) {\n",
              "          const element = document.querySelector('#df-e1b95e69-4db8-46cc-ad1c-f1a832b42102');\n",
              "          const dataTable =\n",
              "            await google.colab.kernel.invokeFunction('convertToInteractive',\n",
              "                                                     [key], {});\n",
              "          if (!dataTable) return;\n",
              "\n",
              "          const docLinkHtml = 'Like what you see? Visit the ' +\n",
              "            '<a target=\"_blank\" href=https://colab.research.google.com/notebooks/data_table.ipynb>data table notebook</a>'\n",
              "            + ' to learn more about interactive tables.';\n",
              "          element.innerHTML = '';\n",
              "          dataTable['output_type'] = 'display_data';\n",
              "          await google.colab.output.renderOutput(dataTable, element);\n",
              "          const docLink = document.createElement('div');\n",
              "          docLink.innerHTML = docLinkHtml;\n",
              "          element.appendChild(docLink);\n",
              "        }\n",
              "      </script>\n",
              "    </div>\n",
              "  </div>\n",
              "  "
            ]
          },
          "metadata": {},
          "execution_count": 9
        }
      ],
      "source": [
        "data = dta\n",
        "cat_vars = ['rate_marriage', 'religious','educ', 'occupation', 'occupation_husb']\n",
        "\n",
        "# Una forma de hacerlo es mediante Pandas...\n",
        "cat_dummy = pd.get_dummies(data['rate_marriage'], prefix='rate_marriage', drop_first=True)\n",
        "cat_dummy"
      ]
    },
    {
      "cell_type": "markdown",
      "metadata": {
        "id": "LMisYnMsmpqb"
      },
      "source": [
        "Otra forma es mediante las estructuras de datos para modelos de `patsy`.\n",
        "\n",
        "Recomendable para modelos estadísticos donde se usan matrices de diseño"
      ]
    },
    {
      "cell_type": "code",
      "execution_count": 10,
      "metadata": {
        "id": "nLfvMnIvmpqb"
      },
      "outputs": [],
      "source": [
        "from patsy import dmatrices\n",
        "\n",
        "data = dta\n",
        "cat_vars = ['rate_marriage', 'religious','educ', 'occupation', 'occupation_husb']\n",
        "\n",
        "y, X = dmatrices('affair ~ C(occupation) + C(educ) + C(occupation_husb)'\n",
        "                 '+ C(rate_marriage) + age + yrs_married + children'\n",
        "                 '+ C(religious)', data, return_type = 'dataframe')\n"
      ]
    },
    {
      "cell_type": "code",
      "execution_count": 11,
      "metadata": {
        "colab": {
          "base_uri": "https://localhost:8080/",
          "height": 505
        },
        "id": "JOfILfaTmpqb",
        "outputId": "66246664-4700-472e-9206-6ab4b64e3a5e"
      },
      "outputs": [
        {
          "output_type": "execute_result",
          "data": {
            "text/plain": [
              "      Intercept  C(occupation)[T.2.0]  C(occupation)[T.3.0]  \\\n",
              "0           1.0                   1.0                   0.0   \n",
              "1           1.0                   0.0                   1.0   \n",
              "2           1.0                   0.0                   1.0   \n",
              "3           1.0                   0.0                   0.0   \n",
              "4           1.0                   0.0                   1.0   \n",
              "...         ...                   ...                   ...   \n",
              "6361        1.0                   0.0                   0.0   \n",
              "6362        1.0                   0.0                   0.0   \n",
              "6363        1.0                   0.0                   1.0   \n",
              "6364        1.0                   0.0                   1.0   \n",
              "6365        1.0                   1.0                   0.0   \n",
              "\n",
              "      C(occupation)[T.4.0]  C(occupation)[T.5.0]  C(occupation)[T.6.0]  \\\n",
              "0                      0.0                   0.0                   0.0   \n",
              "1                      0.0                   0.0                   0.0   \n",
              "2                      0.0                   0.0                   0.0   \n",
              "3                      0.0                   1.0                   0.0   \n",
              "4                      0.0                   0.0                   0.0   \n",
              "...                    ...                   ...                   ...   \n",
              "6361                   1.0                   0.0                   0.0   \n",
              "6362                   0.0                   1.0                   0.0   \n",
              "6363                   0.0                   0.0                   0.0   \n",
              "6364                   0.0                   0.0                   0.0   \n",
              "6365                   0.0                   0.0                   0.0   \n",
              "\n",
              "      C(educ)[T.12.0]  C(educ)[T.14.0]  C(educ)[T.16.0]  C(educ)[T.17.0]  ...  \\\n",
              "0                 0.0              0.0              0.0              1.0  ...   \n",
              "1                 0.0              1.0              0.0              0.0  ...   \n",
              "2                 0.0              0.0              1.0              0.0  ...   \n",
              "3                 0.0              0.0              1.0              0.0  ...   \n",
              "4                 0.0              1.0              0.0              0.0  ...   \n",
              "...               ...              ...              ...              ...  ...   \n",
              "6361              0.0              0.0              0.0              1.0  ...   \n",
              "6362              0.0              0.0              1.0              0.0  ...   \n",
              "6363              0.0              1.0              0.0              0.0  ...   \n",
              "6364              0.0              1.0              0.0              0.0  ...   \n",
              "6365              0.0              0.0              1.0              0.0  ...   \n",
              "\n",
              "      C(rate_marriage)[T.2.0]  C(rate_marriage)[T.3.0]  \\\n",
              "0                         0.0                      1.0   \n",
              "1                         0.0                      1.0   \n",
              "2                         0.0                      0.0   \n",
              "3                         0.0                      0.0   \n",
              "4                         0.0                      0.0   \n",
              "...                       ...                      ...   \n",
              "6361                      0.0                      0.0   \n",
              "6362                      0.0                      0.0   \n",
              "6363                      0.0                      0.0   \n",
              "6364                      0.0                      0.0   \n",
              "6365                      0.0                      0.0   \n",
              "\n",
              "      C(rate_marriage)[T.4.0]  C(rate_marriage)[T.5.0]  C(religious)[T.2.0]  \\\n",
              "0                         0.0                      0.0                  0.0   \n",
              "1                         0.0                      0.0                  0.0   \n",
              "2                         1.0                      0.0                  0.0   \n",
              "3                         1.0                      0.0                  0.0   \n",
              "4                         0.0                      1.0                  0.0   \n",
              "...                       ...                      ...                  ...   \n",
              "6361                      0.0                      1.0                  0.0   \n",
              "6362                      1.0                      0.0                  0.0   \n",
              "6363                      0.0                      1.0                  1.0   \n",
              "6364                      0.0                      1.0                  0.0   \n",
              "6365                      1.0                      0.0                  1.0   \n",
              "\n",
              "      C(religious)[T.3.0]  C(religious)[T.4.0]   age  yrs_married  children  \n",
              "0                     1.0                  0.0  32.0          9.0       3.0  \n",
              "1                     0.0                  0.0  27.0         13.0       3.0  \n",
              "2                     0.0                  0.0  22.0          2.5       0.0  \n",
              "3                     1.0                  0.0  37.0         16.5       4.0  \n",
              "4                     0.0                  0.0  27.0          9.0       1.0  \n",
              "...                   ...                  ...   ...          ...       ...  \n",
              "6361                  1.0                  0.0  32.0         13.0       2.0  \n",
              "6362                  0.0                  0.0  32.0         13.0       1.0  \n",
              "6363                  0.0                  0.0  22.0          2.5       0.0  \n",
              "6364                  1.0                  0.0  32.0          6.0       1.0  \n",
              "6365                  0.0                  0.0  22.0          2.5       0.0  \n",
              "\n",
              "[6366 rows x 26 columns]"
            ],
            "text/html": [
              "\n",
              "  <div id=\"df-8075b10e-7f0a-47a9-8b40-9f5ee5615442\">\n",
              "    <div class=\"colab-df-container\">\n",
              "      <div>\n",
              "<style scoped>\n",
              "    .dataframe tbody tr th:only-of-type {\n",
              "        vertical-align: middle;\n",
              "    }\n",
              "\n",
              "    .dataframe tbody tr th {\n",
              "        vertical-align: top;\n",
              "    }\n",
              "\n",
              "    .dataframe thead th {\n",
              "        text-align: right;\n",
              "    }\n",
              "</style>\n",
              "<table border=\"1\" class=\"dataframe\">\n",
              "  <thead>\n",
              "    <tr style=\"text-align: right;\">\n",
              "      <th></th>\n",
              "      <th>Intercept</th>\n",
              "      <th>C(occupation)[T.2.0]</th>\n",
              "      <th>C(occupation)[T.3.0]</th>\n",
              "      <th>C(occupation)[T.4.0]</th>\n",
              "      <th>C(occupation)[T.5.0]</th>\n",
              "      <th>C(occupation)[T.6.0]</th>\n",
              "      <th>C(educ)[T.12.0]</th>\n",
              "      <th>C(educ)[T.14.0]</th>\n",
              "      <th>C(educ)[T.16.0]</th>\n",
              "      <th>C(educ)[T.17.0]</th>\n",
              "      <th>...</th>\n",
              "      <th>C(rate_marriage)[T.2.0]</th>\n",
              "      <th>C(rate_marriage)[T.3.0]</th>\n",
              "      <th>C(rate_marriage)[T.4.0]</th>\n",
              "      <th>C(rate_marriage)[T.5.0]</th>\n",
              "      <th>C(religious)[T.2.0]</th>\n",
              "      <th>C(religious)[T.3.0]</th>\n",
              "      <th>C(religious)[T.4.0]</th>\n",
              "      <th>age</th>\n",
              "      <th>yrs_married</th>\n",
              "      <th>children</th>\n",
              "    </tr>\n",
              "  </thead>\n",
              "  <tbody>\n",
              "    <tr>\n",
              "      <th>0</th>\n",
              "      <td>1.0</td>\n",
              "      <td>1.0</td>\n",
              "      <td>0.0</td>\n",
              "      <td>0.0</td>\n",
              "      <td>0.0</td>\n",
              "      <td>0.0</td>\n",
              "      <td>0.0</td>\n",
              "      <td>0.0</td>\n",
              "      <td>0.0</td>\n",
              "      <td>1.0</td>\n",
              "      <td>...</td>\n",
              "      <td>0.0</td>\n",
              "      <td>1.0</td>\n",
              "      <td>0.0</td>\n",
              "      <td>0.0</td>\n",
              "      <td>0.0</td>\n",
              "      <td>1.0</td>\n",
              "      <td>0.0</td>\n",
              "      <td>32.0</td>\n",
              "      <td>9.0</td>\n",
              "      <td>3.0</td>\n",
              "    </tr>\n",
              "    <tr>\n",
              "      <th>1</th>\n",
              "      <td>1.0</td>\n",
              "      <td>0.0</td>\n",
              "      <td>1.0</td>\n",
              "      <td>0.0</td>\n",
              "      <td>0.0</td>\n",
              "      <td>0.0</td>\n",
              "      <td>0.0</td>\n",
              "      <td>1.0</td>\n",
              "      <td>0.0</td>\n",
              "      <td>0.0</td>\n",
              "      <td>...</td>\n",
              "      <td>0.0</td>\n",
              "      <td>1.0</td>\n",
              "      <td>0.0</td>\n",
              "      <td>0.0</td>\n",
              "      <td>0.0</td>\n",
              "      <td>0.0</td>\n",
              "      <td>0.0</td>\n",
              "      <td>27.0</td>\n",
              "      <td>13.0</td>\n",
              "      <td>3.0</td>\n",
              "    </tr>\n",
              "    <tr>\n",
              "      <th>2</th>\n",
              "      <td>1.0</td>\n",
              "      <td>0.0</td>\n",
              "      <td>1.0</td>\n",
              "      <td>0.0</td>\n",
              "      <td>0.0</td>\n",
              "      <td>0.0</td>\n",
              "      <td>0.0</td>\n",
              "      <td>0.0</td>\n",
              "      <td>1.0</td>\n",
              "      <td>0.0</td>\n",
              "      <td>...</td>\n",
              "      <td>0.0</td>\n",
              "      <td>0.0</td>\n",
              "      <td>1.0</td>\n",
              "      <td>0.0</td>\n",
              "      <td>0.0</td>\n",
              "      <td>0.0</td>\n",
              "      <td>0.0</td>\n",
              "      <td>22.0</td>\n",
              "      <td>2.5</td>\n",
              "      <td>0.0</td>\n",
              "    </tr>\n",
              "    <tr>\n",
              "      <th>3</th>\n",
              "      <td>1.0</td>\n",
              "      <td>0.0</td>\n",
              "      <td>0.0</td>\n",
              "      <td>0.0</td>\n",
              "      <td>1.0</td>\n",
              "      <td>0.0</td>\n",
              "      <td>0.0</td>\n",
              "      <td>0.0</td>\n",
              "      <td>1.0</td>\n",
              "      <td>0.0</td>\n",
              "      <td>...</td>\n",
              "      <td>0.0</td>\n",
              "      <td>0.0</td>\n",
              "      <td>1.0</td>\n",
              "      <td>0.0</td>\n",
              "      <td>0.0</td>\n",
              "      <td>1.0</td>\n",
              "      <td>0.0</td>\n",
              "      <td>37.0</td>\n",
              "      <td>16.5</td>\n",
              "      <td>4.0</td>\n",
              "    </tr>\n",
              "    <tr>\n",
              "      <th>4</th>\n",
              "      <td>1.0</td>\n",
              "      <td>0.0</td>\n",
              "      <td>1.0</td>\n",
              "      <td>0.0</td>\n",
              "      <td>0.0</td>\n",
              "      <td>0.0</td>\n",
              "      <td>0.0</td>\n",
              "      <td>1.0</td>\n",
              "      <td>0.0</td>\n",
              "      <td>0.0</td>\n",
              "      <td>...</td>\n",
              "      <td>0.0</td>\n",
              "      <td>0.0</td>\n",
              "      <td>0.0</td>\n",
              "      <td>1.0</td>\n",
              "      <td>0.0</td>\n",
              "      <td>0.0</td>\n",
              "      <td>0.0</td>\n",
              "      <td>27.0</td>\n",
              "      <td>9.0</td>\n",
              "      <td>1.0</td>\n",
              "    </tr>\n",
              "    <tr>\n",
              "      <th>...</th>\n",
              "      <td>...</td>\n",
              "      <td>...</td>\n",
              "      <td>...</td>\n",
              "      <td>...</td>\n",
              "      <td>...</td>\n",
              "      <td>...</td>\n",
              "      <td>...</td>\n",
              "      <td>...</td>\n",
              "      <td>...</td>\n",
              "      <td>...</td>\n",
              "      <td>...</td>\n",
              "      <td>...</td>\n",
              "      <td>...</td>\n",
              "      <td>...</td>\n",
              "      <td>...</td>\n",
              "      <td>...</td>\n",
              "      <td>...</td>\n",
              "      <td>...</td>\n",
              "      <td>...</td>\n",
              "      <td>...</td>\n",
              "      <td>...</td>\n",
              "    </tr>\n",
              "    <tr>\n",
              "      <th>6361</th>\n",
              "      <td>1.0</td>\n",
              "      <td>0.0</td>\n",
              "      <td>0.0</td>\n",
              "      <td>1.0</td>\n",
              "      <td>0.0</td>\n",
              "      <td>0.0</td>\n",
              "      <td>0.0</td>\n",
              "      <td>0.0</td>\n",
              "      <td>0.0</td>\n",
              "      <td>1.0</td>\n",
              "      <td>...</td>\n",
              "      <td>0.0</td>\n",
              "      <td>0.0</td>\n",
              "      <td>0.0</td>\n",
              "      <td>1.0</td>\n",
              "      <td>0.0</td>\n",
              "      <td>1.0</td>\n",
              "      <td>0.0</td>\n",
              "      <td>32.0</td>\n",
              "      <td>13.0</td>\n",
              "      <td>2.0</td>\n",
              "    </tr>\n",
              "    <tr>\n",
              "      <th>6362</th>\n",
              "      <td>1.0</td>\n",
              "      <td>0.0</td>\n",
              "      <td>0.0</td>\n",
              "      <td>0.0</td>\n",
              "      <td>1.0</td>\n",
              "      <td>0.0</td>\n",
              "      <td>0.0</td>\n",
              "      <td>0.0</td>\n",
              "      <td>1.0</td>\n",
              "      <td>0.0</td>\n",
              "      <td>...</td>\n",
              "      <td>0.0</td>\n",
              "      <td>0.0</td>\n",
              "      <td>1.0</td>\n",
              "      <td>0.0</td>\n",
              "      <td>0.0</td>\n",
              "      <td>0.0</td>\n",
              "      <td>0.0</td>\n",
              "      <td>32.0</td>\n",
              "      <td>13.0</td>\n",
              "      <td>1.0</td>\n",
              "    </tr>\n",
              "    <tr>\n",
              "      <th>6363</th>\n",
              "      <td>1.0</td>\n",
              "      <td>0.0</td>\n",
              "      <td>1.0</td>\n",
              "      <td>0.0</td>\n",
              "      <td>0.0</td>\n",
              "      <td>0.0</td>\n",
              "      <td>0.0</td>\n",
              "      <td>1.0</td>\n",
              "      <td>0.0</td>\n",
              "      <td>0.0</td>\n",
              "      <td>...</td>\n",
              "      <td>0.0</td>\n",
              "      <td>0.0</td>\n",
              "      <td>0.0</td>\n",
              "      <td>1.0</td>\n",
              "      <td>1.0</td>\n",
              "      <td>0.0</td>\n",
              "      <td>0.0</td>\n",
              "      <td>22.0</td>\n",
              "      <td>2.5</td>\n",
              "      <td>0.0</td>\n",
              "    </tr>\n",
              "    <tr>\n",
              "      <th>6364</th>\n",
              "      <td>1.0</td>\n",
              "      <td>0.0</td>\n",
              "      <td>1.0</td>\n",
              "      <td>0.0</td>\n",
              "      <td>0.0</td>\n",
              "      <td>0.0</td>\n",
              "      <td>0.0</td>\n",
              "      <td>1.0</td>\n",
              "      <td>0.0</td>\n",
              "      <td>0.0</td>\n",
              "      <td>...</td>\n",
              "      <td>0.0</td>\n",
              "      <td>0.0</td>\n",
              "      <td>0.0</td>\n",
              "      <td>1.0</td>\n",
              "      <td>0.0</td>\n",
              "      <td>1.0</td>\n",
              "      <td>0.0</td>\n",
              "      <td>32.0</td>\n",
              "      <td>6.0</td>\n",
              "      <td>1.0</td>\n",
              "    </tr>\n",
              "    <tr>\n",
              "      <th>6365</th>\n",
              "      <td>1.0</td>\n",
              "      <td>1.0</td>\n",
              "      <td>0.0</td>\n",
              "      <td>0.0</td>\n",
              "      <td>0.0</td>\n",
              "      <td>0.0</td>\n",
              "      <td>0.0</td>\n",
              "      <td>0.0</td>\n",
              "      <td>1.0</td>\n",
              "      <td>0.0</td>\n",
              "      <td>...</td>\n",
              "      <td>0.0</td>\n",
              "      <td>0.0</td>\n",
              "      <td>1.0</td>\n",
              "      <td>0.0</td>\n",
              "      <td>1.0</td>\n",
              "      <td>0.0</td>\n",
              "      <td>0.0</td>\n",
              "      <td>22.0</td>\n",
              "      <td>2.5</td>\n",
              "      <td>0.0</td>\n",
              "    </tr>\n",
              "  </tbody>\n",
              "</table>\n",
              "<p>6366 rows × 26 columns</p>\n",
              "</div>\n",
              "      <button class=\"colab-df-convert\" onclick=\"convertToInteractive('df-8075b10e-7f0a-47a9-8b40-9f5ee5615442')\"\n",
              "              title=\"Convert this dataframe to an interactive table.\"\n",
              "              style=\"display:none;\">\n",
              "        \n",
              "  <svg xmlns=\"http://www.w3.org/2000/svg\" height=\"24px\"viewBox=\"0 0 24 24\"\n",
              "       width=\"24px\">\n",
              "    <path d=\"M0 0h24v24H0V0z\" fill=\"none\"/>\n",
              "    <path d=\"M18.56 5.44l.94 2.06.94-2.06 2.06-.94-2.06-.94-.94-2.06-.94 2.06-2.06.94zm-11 1L8.5 8.5l.94-2.06 2.06-.94-2.06-.94L8.5 2.5l-.94 2.06-2.06.94zm10 10l.94 2.06.94-2.06 2.06-.94-2.06-.94-.94-2.06-.94 2.06-2.06.94z\"/><path d=\"M17.41 7.96l-1.37-1.37c-.4-.4-.92-.59-1.43-.59-.52 0-1.04.2-1.43.59L10.3 9.45l-7.72 7.72c-.78.78-.78 2.05 0 2.83L4 21.41c.39.39.9.59 1.41.59.51 0 1.02-.2 1.41-.59l7.78-7.78 2.81-2.81c.8-.78.8-2.07 0-2.86zM5.41 20L4 18.59l7.72-7.72 1.47 1.35L5.41 20z\"/>\n",
              "  </svg>\n",
              "      </button>\n",
              "      \n",
              "  <style>\n",
              "    .colab-df-container {\n",
              "      display:flex;\n",
              "      flex-wrap:wrap;\n",
              "      gap: 12px;\n",
              "    }\n",
              "\n",
              "    .colab-df-convert {\n",
              "      background-color: #E8F0FE;\n",
              "      border: none;\n",
              "      border-radius: 50%;\n",
              "      cursor: pointer;\n",
              "      display: none;\n",
              "      fill: #1967D2;\n",
              "      height: 32px;\n",
              "      padding: 0 0 0 0;\n",
              "      width: 32px;\n",
              "    }\n",
              "\n",
              "    .colab-df-convert:hover {\n",
              "      background-color: #E2EBFA;\n",
              "      box-shadow: 0px 1px 2px rgba(60, 64, 67, 0.3), 0px 1px 3px 1px rgba(60, 64, 67, 0.15);\n",
              "      fill: #174EA6;\n",
              "    }\n",
              "\n",
              "    [theme=dark] .colab-df-convert {\n",
              "      background-color: #3B4455;\n",
              "      fill: #D2E3FC;\n",
              "    }\n",
              "\n",
              "    [theme=dark] .colab-df-convert:hover {\n",
              "      background-color: #434B5C;\n",
              "      box-shadow: 0px 1px 3px 1px rgba(0, 0, 0, 0.15);\n",
              "      filter: drop-shadow(0px 1px 2px rgba(0, 0, 0, 0.3));\n",
              "      fill: #FFFFFF;\n",
              "    }\n",
              "  </style>\n",
              "\n",
              "      <script>\n",
              "        const buttonEl =\n",
              "          document.querySelector('#df-8075b10e-7f0a-47a9-8b40-9f5ee5615442 button.colab-df-convert');\n",
              "        buttonEl.style.display =\n",
              "          google.colab.kernel.accessAllowed ? 'block' : 'none';\n",
              "\n",
              "        async function convertToInteractive(key) {\n",
              "          const element = document.querySelector('#df-8075b10e-7f0a-47a9-8b40-9f5ee5615442');\n",
              "          const dataTable =\n",
              "            await google.colab.kernel.invokeFunction('convertToInteractive',\n",
              "                                                     [key], {});\n",
              "          if (!dataTable) return;\n",
              "\n",
              "          const docLinkHtml = 'Like what you see? Visit the ' +\n",
              "            '<a target=\"_blank\" href=https://colab.research.google.com/notebooks/data_table.ipynb>data table notebook</a>'\n",
              "            + ' to learn more about interactive tables.';\n",
              "          element.innerHTML = '';\n",
              "          dataTable['output_type'] = 'display_data';\n",
              "          await google.colab.output.renderOutput(dataTable, element);\n",
              "          const docLink = document.createElement('div');\n",
              "          docLink.innerHTML = docLinkHtml;\n",
              "          element.appendChild(docLink);\n",
              "        }\n",
              "      </script>\n",
              "    </div>\n",
              "  </div>\n",
              "  "
            ]
          },
          "metadata": {},
          "execution_count": 11
        }
      ],
      "source": [
        "X"
      ]
    },
    {
      "cell_type": "markdown",
      "metadata": {
        "id": "vop4tMNjmpqc"
      },
      "source": [
        "### Creamos conjunto de datos de entrenamiento y prueba"
      ]
    },
    {
      "cell_type": "code",
      "execution_count": 12,
      "metadata": {
        "id": "IYoXGfG9mpqc"
      },
      "outputs": [],
      "source": [
        "X_train, X_test, y_train, y_test = train_test_split(X, pd.Series.ravel(y), test_size=0.3, random_state=0)"
      ]
    },
    {
      "cell_type": "markdown",
      "metadata": {
        "id": "euvGMmWqmpqc"
      },
      "source": [
        "### Regresión logística mediante un enfoque de modelos estadísticos"
      ]
    },
    {
      "cell_type": "code",
      "execution_count": 13,
      "metadata": {
        "scrolled": false,
        "colab": {
          "base_uri": "https://localhost:8080/"
        },
        "id": "JDKOjUhBmpqc",
        "outputId": "553d600f-70c2-437e-e4b4-e7ba066209e2"
      },
      "outputs": [
        {
          "output_type": "stream",
          "name": "stdout",
          "text": [
            "Optimization terminated successfully.\n",
            "         Current function value: 0.540886\n",
            "         Iterations 6\n",
            "                             Results: Logit\n",
            "=========================================================================\n",
            "Model:                 Logit              Pseudo R-squared:   0.142      \n",
            "Dependent Variable:    y                  AIC:                4872.3800  \n",
            "Date:                  2023-05-04 16:32   BIC:                5038.8322  \n",
            "No. Observations:      4456               Log-Likelihood:     -2410.2    \n",
            "Df Model:              25                 LL-Null:            -2808.3    \n",
            "Df Residuals:          4430               LLR p-value:        7.8883e-152\n",
            "Converged:             1.0000             Scale:              1.0000     \n",
            "No. Iterations:        6.0000                                            \n",
            "-------------------------------------------------------------------------\n",
            "                           Coef.  Std.Err.    z    P>|z|   [0.025  0.975]\n",
            "-------------------------------------------------------------------------\n",
            "Intercept                  0.2497   0.8582  0.2910 0.7711 -1.4323  1.9317\n",
            "C(occupation)[T.2.0]       1.0383   0.6556  1.5838 0.1132 -0.2466  2.3231\n",
            "C(occupation)[T.3.0]       1.2665   0.6500  1.9485 0.0514 -0.0075  2.5404\n",
            "C(occupation)[T.4.0]       1.0714   0.6519  1.6436 0.1003 -0.2063  2.3490\n",
            "C(occupation)[T.5.0]       1.6463   0.6555  2.5115 0.0120  0.3615  2.9310\n",
            "C(occupation)[T.6.0]       2.0136   0.7103  2.8348 0.0046  0.6214  3.4058\n",
            "C(educ)[T.12.0]            0.3753   0.4043  0.9281 0.3533 -0.4172  1.1678\n",
            "C(educ)[T.14.0]            0.6273   0.4063  1.5439 0.1226 -0.1690  1.4236\n",
            "C(educ)[T.16.0]            0.3319   0.4164  0.7971 0.4254 -0.4842  1.1481\n",
            "C(educ)[T.17.0]            0.5494   0.4275  1.2852 0.1987 -0.2885  1.3872\n",
            "C(educ)[T.20.0]            0.2733   0.4459  0.6129 0.5400 -0.6007  1.1472\n",
            "C(occupation_husb)[T.2.0]  0.0863   0.2163  0.3990 0.6899 -0.3377  0.5103\n",
            "C(occupation_husb)[T.3.0]  0.2019   0.2367  0.8527 0.3939 -0.2621  0.6659\n",
            "C(occupation_husb)[T.4.0]  0.0396   0.2096  0.1891 0.8500 -0.3711  0.4503\n",
            "C(occupation_husb)[T.5.0]  0.0062   0.2115  0.0292 0.9767 -0.4083  0.4207\n",
            "C(occupation_husb)[T.6.0] -0.0144   0.2383 -0.0605 0.9517 -0.4815  0.4527\n",
            "C(rate_marriage)[T.2.0]   -0.2886   0.3124 -0.9238 0.3556 -0.9008  0.3237\n",
            "C(rate_marriage)[T.3.0]   -0.6063   0.2898 -2.0921 0.0364 -1.1743 -0.0383\n",
            "C(rate_marriage)[T.4.0]   -1.4842   0.2848 -5.2105 0.0000 -2.0424 -0.9259\n",
            "C(rate_marriage)[T.5.0]   -2.2724   0.2861 -7.9430 0.0000 -2.8331 -1.7117\n",
            "C(religious)[T.2.0]       -0.4057   0.1011 -4.0111 0.0001 -0.6039 -0.2075\n",
            "C(religious)[T.3.0]       -0.7049   0.1022 -6.8993 0.0000 -0.9051 -0.5046\n",
            "C(religious)[T.4.0]       -1.3248   0.1589 -8.3388 0.0000 -1.6362 -1.0134\n",
            "age                       -0.0583   0.0124 -4.7174 0.0000 -0.0826 -0.0341\n",
            "yrs_married                0.1105   0.0132  8.3710 0.0000  0.0847  0.1364\n",
            "children                  -0.0146   0.0385 -0.3808 0.7033 -0.0900  0.0607\n",
            "=========================================================================\n",
            "\n"
          ]
        }
      ],
      "source": [
        "logit_model=sm.Logit(y_train,X_train)\n",
        "result=logit_model.fit(method='newton')\n",
        "print(result.summary2())"
      ]
    },
    {
      "cell_type": "markdown",
      "metadata": {
        "id": "ksDdnSWBmpqc"
      },
      "source": [
        "Métricas de evaluación"
      ]
    },
    {
      "cell_type": "code",
      "execution_count": 14,
      "metadata": {
        "colab": {
          "base_uri": "https://localhost:8080/",
          "height": 474
        },
        "id": "_-wncI4Impqc",
        "outputId": "92a77490-078a-41b3-95fb-3a90aa5c8fc3"
      },
      "outputs": [
        {
          "output_type": "display_data",
          "data": {
            "text/plain": [
              "<Figure size 640x480 with 2 Axes>"
            ],
            "image/png": "[encoded data removed]"
          },
          "metadata": {}
        }
      ],
      "source": [
        "y_pred1 = result.predict(X_test)\n",
        "y_pred1 = [0 if x < 0.5 else 1 for x in y_pred1]\n",
        "\n",
        "#confusion_matrix = metrics.confusion_matrix(y_test, y_pred1)\n",
        "disp1 = metrics.ConfusionMatrixDisplay.from_predictions(y_test, y_pred1)\n",
        "disp1.ax_.set_title('Matriz de confusion. Sin normalizar',{'fontsize':15})\n",
        "plt.show()"
      ]
    },
    {
      "cell_type": "code",
      "execution_count": 15,
      "metadata": {
        "scrolled": true,
        "colab": {
          "base_uri": "https://localhost:8080/"
        },
        "id": "VcPUK87Ampqd",
        "outputId": "73f26146-f6df-4fe3-e0ca-1e4c4766d13b"
      },
      "outputs": [
        {
          "output_type": "stream",
          "name": "stdout",
          "text": [
            "              precision    recall  f1-score   support\n",
            "\n",
            "         0.0       0.76      0.89      0.82      1303\n",
            "         1.0       0.62      0.39      0.48       607\n",
            "\n",
            "    accuracy                           0.73      1910\n",
            "   macro avg       0.69      0.64      0.65      1910\n",
            "weighted avg       0.71      0.73      0.71      1910\n",
            "\n"
          ]
        }
      ],
      "source": [
        "print(metrics.classification_report(y_test, y_pred1))"
      ]
    },
    {
      "cell_type": "markdown",
      "metadata": {
        "id": "PCzScAKNmpqd"
      },
      "source": [
        "### Usando `sklearn`"
      ]
    },
    {
      "cell_type": "code",
      "execution_count": 16,
      "metadata": {
        "colab": {
          "base_uri": "https://localhost:8080/",
          "height": 75
        },
        "id": "dREu9Ae2mpqd",
        "outputId": "40cda4ba-4aa6-4212-9798-fbe21fb6102d"
      },
      "outputs": [
        {
          "output_type": "execute_result",
          "data": {
            "text/plain": [
              "LogisticRegression(C=1000000000.0, solver='newton-cg')"
            ],
            "text/html": [
              "<style>#sk-container-id-1 {color: black;background-color: white;}#sk-container-id-1 pre{padding: 0;}#sk-container-id-1 div.sk-toggleable {background-color: white;}#sk-container-id-1 label.sk-toggleable__label {cursor: pointer;display: block;width: 100%;margin-bottom: 0;padding: 0.3em;box-sizing: border-box;text-align: center;}#sk-container-id-1 label.sk-toggleable__label-arrow:before {content: \"▸\";float: left;margin-right: 0.25em;color: #696969;}#sk-container-id-1 label.sk-toggleable__label-arrow:hover:before {color: black;}#sk-container-id-1 div.sk-estimator:hover label.sk-toggleable__label-arrow:before {color: black;}#sk-container-id-1 div.sk-toggleable__content {max-height: 0;max-width: 0;overflow: hidden;text-align: left;background-color: #f0f8ff;}#sk-container-id-1 div.sk-toggleable__content pre {margin: 0.2em;color: black;border-radius: 0.25em;background-color: #f0f8ff;}#sk-container-id-1 input.sk-toggleable__control:checked~div.sk-toggleable__content {max-height: 200px;max-width: 100%;overflow: auto;}#sk-container-id-1 input.sk-toggleable__control:checked~label.sk-toggleable__label-arrow:before {content: \"▾\";}#sk-container-id-1 div.sk-estimator input.sk-toggleable__control:checked~label.sk-toggleable__label {background-color: #d4ebff;}#sk-container-id-1 div.sk-label input.sk-toggleable__control:checked~label.sk-toggleable__label {background-color: #d4ebff;}#sk-container-id-1 input.sk-hidden--visually {border: 0;clip: rect(1px 1px 1px 1px);clip: rect(1px, 1px, 1px, 1px);height: 1px;margin: -1px;overflow: hidden;padding: 0;position: absolute;width: 1px;}#sk-container-id-1 div.sk-estimator {font-family: monospace;background-color: #f0f8ff;border: 1px dotted black;border-radius: 0.25em;box-sizing: border-box;margin-bottom: 0.5em;}#sk-container-id-1 div.sk-estimator:hover {background-color: #d4ebff;}#sk-container-id-1 div.sk-parallel-item::after {content: \"\";width: 100%;border-bottom: 1px solid gray;flex-grow: 1;}#sk-container-id-1 div.sk-label:hover label.sk-toggleable__label {background-color: #d4ebff;}#sk-container-id-1 div.sk-serial::before {content: \"\";position: absolute;border-left: 1px solid gray;box-sizing: border-box;top: 0;bottom: 0;left: 50%;z-index: 0;}#sk-container-id-1 div.sk-serial {display: flex;flex-direction: column;align-items: center;background-color: white;padding-right: 0.2em;padding-left: 0.2em;position: relative;}#sk-container-id-1 div.sk-item {position: relative;z-index: 1;}#sk-container-id-1 div.sk-parallel {display: flex;align-items: stretch;justify-content: center;background-color: white;position: relative;}#sk-container-id-1 div.sk-item::before, #sk-container-id-1 div.sk-parallel-item::before {content: \"\";position: absolute;border-left: 1px solid gray;box-sizing: border-box;top: 0;bottom: 0;left: 50%;z-index: -1;}#sk-container-id-1 div.sk-parallel-item {display: flex;flex-direction: column;z-index: 1;position: relative;background-color: white;}#sk-container-id-1 div.sk-parallel-item:first-child::after {align-self: flex-end;width: 50%;}#sk-container-id-1 div.sk-parallel-item:last-child::after {align-self: flex-start;width: 50%;}#sk-container-id-1 div.sk-parallel-item:only-child::after {width: 0;}#sk-container-id-1 div.sk-dashed-wrapped {border: 1px dashed gray;margin: 0 0.4em 0.5em 0.4em;box-sizing: border-box;padding-bottom: 0.4em;background-color: white;}#sk-container-id-1 div.sk-label label {font-family: monospace;font-weight: bold;display: inline-block;line-height: 1.2em;}#sk-container-id-1 div.sk-label-container {text-align: center;}#sk-container-id-1 div.sk-container {/* jupyter's `normalize.less` sets `[hidden] { display: none; }` but bootstrap.min.css set `[hidden] { display: none !important; }` so we also need the `!important` here to be able to override the default hidden behavior on the sphinx rendered scikit-learn.org. See: https://github.com/scikit-learn/scikit-learn/issues/21755 */display: inline-block !important;position: relative;}#sk-container-id-1 div.sk-text-repr-fallback {display: none;}</style><div id=\"sk-container-id-1\" class=\"sk-top-container\"><div class=\"sk-text-repr-fallback\"><pre>LogisticRegression(C=1000000000.0, solver=&#x27;newton-cg&#x27;)</pre><b>In a Jupyter environment, please rerun this cell to show the HTML representation or trust the notebook. <br />On GitHub, the HTML representation is unable to render, please try loading this page with nbviewer.org.</b></div><div class=\"sk-container\" hidden><div class=\"sk-item\"><div class=\"sk-estimator sk-toggleable\"><input class=\"sk-toggleable__control sk-hidden--visually\" id=\"sk-estimator-id-1\" type=\"checkbox\" checked><label for=\"sk-estimator-id-1\" class=\"sk-toggleable__label sk-toggleable__label-arrow\">LogisticRegression</label><div class=\"sk-toggleable__content\"><pre>LogisticRegression(C=1000000000.0, solver=&#x27;newton-cg&#x27;)</pre></div></div></div></div></div>"
            ]
          },
          "metadata": {},
          "execution_count": 16
        }
      ],
      "source": [
        "logreg = LogisticRegression(solver='newton-cg', C = 1e9)\n",
        "logreg.fit(X_train, y_train)"
      ]
    },
    {
      "cell_type": "code",
      "execution_count": 17,
      "metadata": {
        "colab": {
          "base_uri": "https://localhost:8080/"
        },
        "id": "_kNHZDLVmpqd",
        "outputId": "3afc8f1e-1962-454f-c876-b5355ec436cd"
      },
      "outputs": [
        {
          "output_type": "stream",
          "name": "stdout",
          "text": [
            "Accuracy of logistic regression classifier on test set: 0.73\n"
          ]
        }
      ],
      "source": [
        "y_pred2 = logreg.predict(X_test)\n",
        "print('Accuracy of logistic regression classifier on test set: {:.2f}'.format(logreg.score(X_test, y_test)))"
      ]
    },
    {
      "cell_type": "markdown",
      "metadata": {
        "id": "6qW4Nz2Hmpqd"
      },
      "source": [
        "Métricas de evaluación"
      ]
    },
    {
      "cell_type": "code",
      "execution_count": 18,
      "metadata": {
        "colab": {
          "base_uri": "https://localhost:8080/",
          "height": 474
        },
        "id": "srLDxCNumpqd",
        "outputId": "bff31efd-c7e1-4150-ccaf-e0e1deb9635d"
      },
      "outputs": [
        {
          "output_type": "display_data",
          "data": {
            "text/plain": [
              "<Figure size 640x480 with 2 Axes>"
            ],
            "image/png": "[encoded data removed]"
          },
          "metadata": {}
        }
      ],
      "source": [
        "disp1 = metrics.ConfusionMatrixDisplay.from_estimator(logreg, X_test, y_test, normalize=None)\n",
        "disp1.ax_.set_title('Matriz de confusion. Sin normalizar',{'fontsize':15})\n",
        "plt.show()"
      ]
    },
    {
      "cell_type": "code",
      "execution_count": 19,
      "metadata": {
        "colab": {
          "base_uri": "https://localhost:8080/"
        },
        "id": "0PDBUbFBmpqe",
        "outputId": "6d461ccb-3c17-4f2a-9ac6-f593d5f28b30"
      },
      "outputs": [
        {
          "output_type": "stream",
          "name": "stdout",
          "text": [
            "              precision    recall  f1-score   support\n",
            "\n",
            "         0.0       0.76      0.89      0.82      1303\n",
            "         1.0       0.62      0.39      0.48       607\n",
            "\n",
            "    accuracy                           0.73      1910\n",
            "   macro avg       0.69      0.64      0.65      1910\n",
            "weighted avg       0.71      0.73      0.71      1910\n",
            "\n"
          ]
        }
      ],
      "source": [
        "print(metrics.classification_report(y_test, y_pred2))"
      ]
    },
    {
      "cell_type": "markdown",
      "metadata": {
        "id": "GIbf4xVHmpqe"
      },
      "source": [
        "Si quieres obtener los coeficientes del modelo:"
      ]
    },
    {
      "cell_type": "code",
      "execution_count": 20,
      "metadata": {
        "colab": {
          "base_uri": "https://localhost:8080/"
        },
        "id": "RYtNKElCmpqe",
        "outputId": "17cd408c-19e7-4238-c727-43e19832ba41"
      },
      "outputs": [
        {
          "output_type": "execute_result",
          "data": {
            "text/plain": [
              "array([[ 0.1249,  1.0383,  1.2665,  1.0714,  1.6463,  2.0136,  0.3753,\n",
              "         0.6273,  0.3319,  0.5494,  0.2733,  0.0863,  0.2019,  0.0396,\n",
              "         0.0062, -0.0144, -0.2886, -0.6063, -1.4842, -2.2724, -0.4057,\n",
              "        -0.7049, -1.3248, -0.0583,  0.1105, -0.0146]])"
            ]
          },
          "metadata": {},
          "execution_count": 20
        }
      ],
      "source": [
        "np.round(logreg.coef_,4)"
      ]
    }
  ],
  "metadata": {
    "celltoolbar": "Slideshow",
    "kernelspec": {
      "display_name": "Python 3 (ipykernel)",
      "language": "python",
      "name": "python3"
    },
    "language_info": {
      "codemirror_mode": {
        "name": "ipython",
        "version": 3
      },
      "file_extension": ".py",
      "mimetype": "text/x-python",
      "name": "python",
      "nbconvert_exporter": "python",
      "pygments_lexer": "ipython3",
      "version": "3.8.10"
    },
    "latex_envs": {
      "LaTeX_envs_menu_present": true,
      "autoclose": true,
      "autocomplete": true,
      "bibliofile": "biblio.bib",
      "cite_by": "apalike",
      "current_citInitial": 1,
      "eqLabelWithNumbers": true,
      "eqNumInitial": 1,
      "hotkeys": {
        "equation": "Ctrl-E",
        "itemize": "Ctrl-I"
      },
      "labels_anchors": false,
      "latex_user_defs": false,
      "report_style_numbering": false,
      "user_envs_cfg": false
    },
    "toc": {
      "base_numbering": 1,
      "nav_menu": {},
      "number_sections": false,
      "sideBar": true,
      "skip_h1_title": false,
      "title_cell": "Table of Contents",
      "title_sidebar": "Contents",
      "toc_cell": false,
      "toc_position": {},
      "toc_section_display": true,
      "toc_window_display": false
    },
    "colab": {
      "provenance": [],
      "include_colab_link": true
    }
  },
  "nbformat": 4,
  "nbformat_minor": 0
}